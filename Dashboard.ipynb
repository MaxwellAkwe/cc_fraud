{
 "cells": [
  {
   "cell_type": "code",
   "execution_count": null,
   "id": "e87c1a81",
   "metadata": {},
   "outputs": [],
   "source": [
    "pip install dash"
   ]
  },
  {
   "cell_type": "code",
   "execution_count": null,
   "id": "9a9e613c",
   "metadata": {},
   "outputs": [],
   "source": [
    "pip install jupyter_dash"
   ]
  },
  {
   "cell_type": "code",
   "execution_count": null,
   "id": "b6542ca4",
   "metadata": {},
   "outputs": [],
   "source": [
    "# Load the dataset\n",
    "# df = pd.read_csv(\"sample_train.csv\")\n",
    "\n",
    "df = pd.read_csv(\"sample_train.csv\")\n",
    "\n",
    "# Convert date_time column to datetime\n",
    "df['trans_date_trans_time'] = pd.to_datetime(df['trans_date_trans_time'])\n",
    "\n",
    "# Extract year information from the date-time column\n",
    "df['year'] = df['trans_date_trans_time'].dt.year\n",
    "\n",
    "# Create Dash app\n",
    "app = dash.Dash(__name__)\n",
    "\n",
    "# Define the layout with a menu and date pickers\n",
    "app.layout = html.Div([\n",
    "    html.H1(\"Interactive Dashboard\"),\n",
    "\n",
    "    # Menu\n",
    "    html.Div([\n",
    "        html.Label(\"Select Chart Type:\"),\n",
    "        dcc.Dropdown(\n",
    "            id=\"chart-type\",\n",
    "            options=[\n",
    "                {\"label\": \"Pie-chart 1\", \"value\": \"pie-chart 1\"},\n",
    "                {\"label\": \"Bar Chart\", \"value\": \"bar-chart\"},\n",
    "                {\"label\": \"Pie Chart 2\", \"value\": \"pie-chart 2\"},\n",
    "                {\"label\": \"Scatter Plot\", \"value\": \"scatter-plot\"}\n",
    "            ],\n",
    "            value=\"histogram\"\n",
    "        ),\n",
    "    ], style={\"width\": \"250px\", \"margin-bottom\": \"20px\"}),\n",
    "\n",
    "    # Date pickers\n",
    "    html.Div([\n",
    "        html.Label(\"Select Date Range:\"),\n",
    "        dcc.DatePickerRange(\n",
    "            id=\"date-range\",\n",
    "            start_date=df['trans_date_trans_time'].min(),\n",
    "            end_date=df['trans_date_trans_time'].max(),\n",
    "            display_format='YYYY-MM-DD'\n",
    "        ),\n",
    "    ], style={\"width\": \"500px\", \"margin-bottom\": \"20px\"}),\n",
    "\n",
    "    # Placeholder for chart\n",
    "    html.Div(id=\"chart-output\"),\n",
    "])\n",
    "\n",
    "# Callback for updating the chart based on selected chart type and date range\n",
    "@app.callback(Output(\"chart-output\", \"children\"),\n",
    "              Input(\"chart-type\", \"value\"),\n",
    "              Input(\"date-range\", \"start_date\"),\n",
    "              Input(\"date-range\", \"end_date\"))\n",
    "def update_chart(chart_type, start_date, end_date):\n",
    "    filtered_df = df[(df[\"trans_date_trans_time\"] >= start_date) & (df[\"trans_date_trans_time\"] <= end_date)]\n",
    "    if chart_type == \"pie-chart 1\":\n",
    "        pie_chart_data = filtered_df[\"category\"].value_counts().reset_index()\n",
    "        fig = px.pie(pie_chart_data, values=\"category\", names=\"index\", title=\"Category Distribution\")\n",
    "    elif chart_type == \"bar-chart\":\n",
    "        bar_chart_data = filtered_df.groupby(\"category\").mean().reset_index()\n",
    "        fig = px.bar(bar_chart_data, x=\"category\", y=\"amt\", color=\"category\")\n",
    "    elif chart_type == \"pie-chart 2\":\n",
    "        pie_chart_data = filtered_df[\"gender\"].value_counts().reset_index()\n",
    "        fig = px.pie(pie_chart_data, values=\"gender\", names=\"index\", title=\"Gender Distribution\")\n",
    "    elif chart_type == \"scatter-plot\":\n",
    "        fig = px.scatter(filtered_df, x=\"lat\", y=\"long\", color=\"is_fraud\", title=\"Scatter Plot\")\n",
    "    return dcc.Graph(figure=fig)\n",
    "\n",
    "if __name__ == \"__main__\":\n",
    "    app.run_server(debug=False)\n",
    "\n",
    "\n",
    "# if __name__ == \"__main__\":\n",
    "#     app.run_server(mode='inline', debug=False)\n"
   ]
  }
 ],
 "metadata": {
  "kernelspec": {
   "display_name": "Python 3 (ipykernel)",
   "language": "python",
   "name": "python3"
  },
  "language_info": {
   "codemirror_mode": {
    "name": "ipython",
    "version": 3
   },
   "file_extension": ".py",
   "mimetype": "text/x-python",
   "name": "python",
   "nbconvert_exporter": "python",
   "pygments_lexer": "ipython3",
   "version": "3.9.12"
  }
 },
 "nbformat": 4,
 "nbformat_minor": 5
}

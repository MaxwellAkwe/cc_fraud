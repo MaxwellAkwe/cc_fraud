{
  "cells": [
    {
      "cell_type": "markdown",
      "id": "900bc600",
      "metadata": {
        "id": "900bc600"
      },
      "source": [
        "## Data Science Product\n",
        "\n",
        "Credit Card Fraud Detection Model\n",
        "\n",
        "Data Sourced from - https://www.kaggle.com/datasets/kartik2112/fraud-detection\n",
        "\n",
        "It is a simulated credit card transaction dataset containing legitimate and fraud transactions from the duration 1st Jan 2019 - 31st Dec 2020. It covers credit cards of 1000 customers doing transactions with a pool of 800 merchants."
      ]
    },
    {
      "cell_type": "markdown",
      "id": "808069b2",
      "metadata": {
        "id": "808069b2"
      },
      "source": [
        "# Phase 1 - Data Exploration & Visualisation\n",
        "\n",
        "## Importing Libraries needed for this product\n",
        "\n",
        "NumPy is a Python library used for scientific computing. It provides a high-performance multi-dimensional array object, and tools for working with these arrays. It is also useful for linear algebra, random number capabilities, Fourier transform, and more."
      ]
    },
    {
      "cell_type": "code",
      "execution_count": 3,
      "id": "42f61228",
      "metadata": {
        "id": "42f61228",
        "outputId": "6cbb4644-5bf6-45e5-8f01-d51c0562946e",
        "colab": {
          "base_uri": "https://localhost:8080/"
        }
      },
      "outputs": [
        {
          "output_type": "stream",
          "name": "stdout",
          "text": [
            "Looking in indexes: https://pypi.org/simple, https://us-python.pkg.dev/colab-wheels/public/simple/\n",
            "Collecting dash\n",
            "  Downloading dash-2.9.3-py3-none-any.whl (10.2 MB)\n",
            "\u001b[2K     \u001b[90m━━━━━━━━━━━━━━━━━━━━━━━━━━━━━━━━━━━━━━━━\u001b[0m \u001b[32m10.2/10.2 MB\u001b[0m \u001b[31m82.8 MB/s\u001b[0m eta \u001b[36m0:00:00\u001b[0m\n",
            "\u001b[?25hCollecting dash-core-components==2.0.0\n",
            "  Downloading dash_core_components-2.0.0-py3-none-any.whl (3.8 kB)\n",
            "Collecting dash-html-components==2.0.0\n",
            "  Downloading dash_html_components-2.0.0-py3-none-any.whl (4.1 kB)\n",
            "Collecting dash-table==5.0.0\n",
            "  Downloading dash_table-5.0.0-py3-none-any.whl (3.9 kB)\n",
            "Requirement already satisfied: Flask>=1.0.4 in /usr/local/lib/python3.9/dist-packages (from dash) (2.2.3)\n",
            "Requirement already satisfied: plotly>=5.0.0 in /usr/local/lib/python3.9/dist-packages (from dash) (5.13.1)\n",
            "Requirement already satisfied: Werkzeug>=2.2.2 in /usr/local/lib/python3.9/dist-packages (from Flask>=1.0.4->dash) (2.2.3)\n",
            "Requirement already satisfied: importlib-metadata>=3.6.0 in /usr/local/lib/python3.9/dist-packages (from Flask>=1.0.4->dash) (6.6.0)\n",
            "Requirement already satisfied: itsdangerous>=2.0 in /usr/local/lib/python3.9/dist-packages (from Flask>=1.0.4->dash) (2.1.2)\n",
            "Requirement already satisfied: Jinja2>=3.0 in /usr/local/lib/python3.9/dist-packages (from Flask>=1.0.4->dash) (3.1.2)\n",
            "Requirement already satisfied: click>=8.0 in /usr/local/lib/python3.9/dist-packages (from Flask>=1.0.4->dash) (8.1.3)\n",
            "Requirement already satisfied: tenacity>=6.2.0 in /usr/local/lib/python3.9/dist-packages (from plotly>=5.0.0->dash) (8.2.2)\n",
            "Requirement already satisfied: zipp>=0.5 in /usr/local/lib/python3.9/dist-packages (from importlib-metadata>=3.6.0->Flask>=1.0.4->dash) (3.15.0)\n",
            "Requirement already satisfied: MarkupSafe>=2.0 in /usr/local/lib/python3.9/dist-packages (from Jinja2>=3.0->Flask>=1.0.4->dash) (2.1.2)\n",
            "Installing collected packages: dash-table, dash-html-components, dash-core-components, dash\n",
            "Successfully installed dash-2.9.3 dash-core-components-2.0.0 dash-html-components-2.0.0 dash-table-5.0.0\n"
          ]
        }
      ],
      "source": [
        "pip install dash"
      ]
    },
    {
      "cell_type": "code",
      "source": [
        "pip install jupyter_dash"
      ],
      "metadata": {
        "id": "JhUmCEOorGWG",
        "outputId": "ce2f0245-fc4b-4996-a0ea-665a38c9cb4a",
        "colab": {
          "base_uri": "https://localhost:8080/"
        }
      },
      "id": "JhUmCEOorGWG",
      "execution_count": 4,
      "outputs": [
        {
          "output_type": "stream",
          "name": "stdout",
          "text": [
            "Looking in indexes: https://pypi.org/simple, https://us-python.pkg.dev/colab-wheels/public/simple/\n",
            "Collecting jupyter_dash\n",
            "  Downloading jupyter_dash-0.4.2-py3-none-any.whl (23 kB)\n",
            "Requirement already satisfied: ipykernel in /usr/local/lib/python3.9/dist-packages (from jupyter_dash) (5.5.6)\n",
            "Requirement already satisfied: flask in /usr/local/lib/python3.9/dist-packages (from jupyter_dash) (2.2.3)\n",
            "Requirement already satisfied: ipython in /usr/local/lib/python3.9/dist-packages (from jupyter_dash) (7.34.0)\n",
            "Requirement already satisfied: dash in /usr/local/lib/python3.9/dist-packages (from jupyter_dash) (2.9.3)\n",
            "Requirement already satisfied: requests in /usr/local/lib/python3.9/dist-packages (from jupyter_dash) (2.27.1)\n",
            "Requirement already satisfied: nest-asyncio in /usr/local/lib/python3.9/dist-packages (from jupyter_dash) (1.5.6)\n",
            "Collecting ansi2html\n",
            "  Downloading ansi2html-1.8.0-py3-none-any.whl (16 kB)\n",
            "Collecting retrying\n",
            "  Downloading retrying-1.3.4-py3-none-any.whl (11 kB)\n",
            "Requirement already satisfied: dash-table==5.0.0 in /usr/local/lib/python3.9/dist-packages (from dash->jupyter_dash) (5.0.0)\n",
            "Requirement already satisfied: dash-html-components==2.0.0 in /usr/local/lib/python3.9/dist-packages (from dash->jupyter_dash) (2.0.0)\n",
            "Requirement already satisfied: plotly>=5.0.0 in /usr/local/lib/python3.9/dist-packages (from dash->jupyter_dash) (5.13.1)\n",
            "Requirement already satisfied: dash-core-components==2.0.0 in /usr/local/lib/python3.9/dist-packages (from dash->jupyter_dash) (2.0.0)\n",
            "Requirement already satisfied: importlib-metadata>=3.6.0 in /usr/local/lib/python3.9/dist-packages (from flask->jupyter_dash) (6.6.0)\n",
            "Requirement already satisfied: itsdangerous>=2.0 in /usr/local/lib/python3.9/dist-packages (from flask->jupyter_dash) (2.1.2)\n",
            "Requirement already satisfied: Werkzeug>=2.2.2 in /usr/local/lib/python3.9/dist-packages (from flask->jupyter_dash) (2.2.3)\n",
            "Requirement already satisfied: Jinja2>=3.0 in /usr/local/lib/python3.9/dist-packages (from flask->jupyter_dash) (3.1.2)\n",
            "Requirement already satisfied: click>=8.0 in /usr/local/lib/python3.9/dist-packages (from flask->jupyter_dash) (8.1.3)\n",
            "Requirement already satisfied: traitlets>=4.1.0 in /usr/local/lib/python3.9/dist-packages (from ipykernel->jupyter_dash) (5.7.1)\n",
            "Requirement already satisfied: jupyter-client in /usr/local/lib/python3.9/dist-packages (from ipykernel->jupyter_dash) (6.1.12)\n",
            "Requirement already satisfied: tornado>=4.2 in /usr/local/lib/python3.9/dist-packages (from ipykernel->jupyter_dash) (6.2)\n",
            "Requirement already satisfied: ipython-genutils in /usr/local/lib/python3.9/dist-packages (from ipykernel->jupyter_dash) (0.2.0)\n",
            "Collecting jedi>=0.16\n",
            "  Downloading jedi-0.18.2-py2.py3-none-any.whl (1.6 MB)\n",
            "\u001b[2K     \u001b[90m━━━━━━━━━━━━━━━━━━━━━━━━━━━━━━━━━━━━━━━━\u001b[0m \u001b[32m1.6/1.6 MB\u001b[0m \u001b[31m47.2 MB/s\u001b[0m eta \u001b[36m0:00:00\u001b[0m\n",
            "\u001b[?25hRequirement already satisfied: matplotlib-inline in /usr/local/lib/python3.9/dist-packages (from ipython->jupyter_dash) (0.1.6)\n",
            "Requirement already satisfied: setuptools>=18.5 in /usr/local/lib/python3.9/dist-packages (from ipython->jupyter_dash) (67.7.2)\n",
            "Requirement already satisfied: pygments in /usr/local/lib/python3.9/dist-packages (from ipython->jupyter_dash) (2.14.0)\n",
            "Requirement already satisfied: prompt-toolkit!=3.0.0,!=3.0.1,<3.1.0,>=2.0.0 in /usr/local/lib/python3.9/dist-packages (from ipython->jupyter_dash) (3.0.38)\n",
            "Requirement already satisfied: decorator in /usr/local/lib/python3.9/dist-packages (from ipython->jupyter_dash) (4.4.2)\n",
            "Requirement already satisfied: pickleshare in /usr/local/lib/python3.9/dist-packages (from ipython->jupyter_dash) (0.7.5)\n",
            "Requirement already satisfied: backcall in /usr/local/lib/python3.9/dist-packages (from ipython->jupyter_dash) (0.2.0)\n",
            "Requirement already satisfied: pexpect>4.3 in /usr/local/lib/python3.9/dist-packages (from ipython->jupyter_dash) (4.8.0)\n",
            "Requirement already satisfied: urllib3<1.27,>=1.21.1 in /usr/local/lib/python3.9/dist-packages (from requests->jupyter_dash) (1.26.15)\n",
            "Requirement already satisfied: certifi>=2017.4.17 in /usr/local/lib/python3.9/dist-packages (from requests->jupyter_dash) (2022.12.7)\n",
            "Requirement already satisfied: idna<4,>=2.5 in /usr/local/lib/python3.9/dist-packages (from requests->jupyter_dash) (3.4)\n",
            "Requirement already satisfied: charset-normalizer~=2.0.0 in /usr/local/lib/python3.9/dist-packages (from requests->jupyter_dash) (2.0.12)\n",
            "Requirement already satisfied: six>=1.7.0 in /usr/local/lib/python3.9/dist-packages (from retrying->jupyter_dash) (1.16.0)\n",
            "Requirement already satisfied: zipp>=0.5 in /usr/local/lib/python3.9/dist-packages (from importlib-metadata>=3.6.0->flask->jupyter_dash) (3.15.0)\n",
            "Requirement already satisfied: parso<0.9.0,>=0.8.0 in /usr/local/lib/python3.9/dist-packages (from jedi>=0.16->ipython->jupyter_dash) (0.8.3)\n",
            "Requirement already satisfied: MarkupSafe>=2.0 in /usr/local/lib/python3.9/dist-packages (from Jinja2>=3.0->flask->jupyter_dash) (2.1.2)\n",
            "Requirement already satisfied: ptyprocess>=0.5 in /usr/local/lib/python3.9/dist-packages (from pexpect>4.3->ipython->jupyter_dash) (0.7.0)\n",
            "Requirement already satisfied: tenacity>=6.2.0 in /usr/local/lib/python3.9/dist-packages (from plotly>=5.0.0->dash->jupyter_dash) (8.2.2)\n",
            "Requirement already satisfied: wcwidth in /usr/local/lib/python3.9/dist-packages (from prompt-toolkit!=3.0.0,!=3.0.1,<3.1.0,>=2.0.0->ipython->jupyter_dash) (0.2.6)\n",
            "Requirement already satisfied: pyzmq>=13 in /usr/local/lib/python3.9/dist-packages (from jupyter-client->ipykernel->jupyter_dash) (23.2.1)\n",
            "Requirement already satisfied: python-dateutil>=2.1 in /usr/local/lib/python3.9/dist-packages (from jupyter-client->ipykernel->jupyter_dash) (2.8.2)\n",
            "Requirement already satisfied: jupyter-core>=4.6.0 in /usr/local/lib/python3.9/dist-packages (from jupyter-client->ipykernel->jupyter_dash) (5.3.0)\n",
            "Requirement already satisfied: platformdirs>=2.5 in /usr/local/lib/python3.9/dist-packages (from jupyter-core>=4.6.0->jupyter-client->ipykernel->jupyter_dash) (3.2.0)\n",
            "Installing collected packages: retrying, jedi, ansi2html, jupyter_dash\n",
            "Successfully installed ansi2html-1.8.0 jedi-0.18.2 jupyter_dash-0.4.2 retrying-1.3.4\n"
          ]
        }
      ]
    },
    {
      "cell_type": "code",
      "source": [
        "import pandas as pd\n",
        "import seaborn as sns #Data visualization Library\n",
        "import matplotlib.pyplot as plt\n",
        "from ipywidgets import interact #Create the interactive widget\n",
        "import ipywidgets as widgets\n",
        "from IPython.display import display\n",
        "from ipywidgets import interact_manual\n",
        "import numpy as np\n",
        "import datetime as dt\n",
        "from sklearn.model_selection import train_test_split\n",
        "from sklearn.linear_model import LogisticRegression\n",
        "from sklearn.ensemble import RandomForestClassifier\n",
        "from sklearn.metrics import accuracy_score\n",
        "import random\n",
        "from sklearn.metrics import confusion_matrix \n",
        "from sklearn.metrics import ConfusionMatrixDisplay\n",
        "import dash\n",
        "from dash import dcc\n",
        "from dash import html\n",
        "import plotly.express as px\n",
        "import plotly.graph_objects as go\n",
        "from dash.dependencies import Input, Output\n",
        "from sklearn.naive_bayes import GaussianNB\n",
        "from sklearn.svm import SVC\n",
        "import plotly.express as px\n",
        "from sklearn.tree import DecisionTreeClassifier\n",
        "\n",
        "\n",
        "#Global variables\n",
        "Gender = \"Gender\"\n",
        "Category = \"Category\"\n",
        "Fraud = \"Fraud\"\n",
        "Geolocation = \"Geolocation\"\n",
        "Fraud_Age = \"Fraud_Age\""
      ],
      "metadata": {
        "id": "rlGj27xWrBrt"
      },
      "id": "rlGj27xWrBrt",
      "execution_count": 5,
      "outputs": []
    },
    {
      "cell_type": "code",
      "execution_count": 8,
      "id": "db37c4d8",
      "metadata": {
        "id": "db37c4d8",
        "outputId": "29de6a90-f7d7-458e-b2ac-50c44428eca1",
        "colab": {
          "base_uri": "https://localhost:8080/"
        }
      },
      "outputs": [
        {
          "output_type": "stream",
          "name": "stdout",
          "text": [
            "Train Data Shape:  50000 rows and 23 columns\n",
            "\n",
            "Test Data Shape:  0 rows and 3 columns\n"
          ]
        }
      ],
      "source": [
        "train_data = 'https://drive.google.com/uc?id=1_1Me4m8B5WuUr3_zCbC30epowgjIWYJy&export=download'\n",
        "train_data = pd.read_csv(train_data)\n",
        "\n",
        "#read testset\n",
        "test_data = 'https://drive.google.com/uc?id=1ZqXZptoRgvbitOG6YTDsyt8idargG5aH&export=download'\n",
        "test_data = pd.read_csv(test_data)\n",
        "\n",
        "\n",
        "# https://drive.google.com/file/d/1ZqXZptoRgvbitOG6YTDsyt8idargG5aH/view?usp=share_link\n",
        "\n",
        "\n",
        "#print the shape of the train_set data\n",
        "print('Train Data Shape: ',train_data.shape[0],'rows and', train_data.shape[1], 'columns')\n",
        "\n",
        "print()\n",
        "\n",
        "#print the shape of the train_set data\n",
        "print('Test Data Shape: ',test_data.shape[0],'rows and', test_data.shape[1], 'columns')"
      ]
    },
    {
      "cell_type": "code",
      "execution_count": null,
      "id": "190537c6",
      "metadata": {
        "id": "190537c6",
        "outputId": "bb4a56bd-2f96-4392-cd21-b8bd3997289d"
      },
      "outputs": [
        {
          "data": {
            "text/html": [
              "<div>\n",
              "<style scoped>\n",
              "    .dataframe tbody tr th:only-of-type {\n",
              "        vertical-align: middle;\n",
              "    }\n",
              "\n",
              "    .dataframe tbody tr th {\n",
              "        vertical-align: top;\n",
              "    }\n",
              "\n",
              "    .dataframe thead th {\n",
              "        text-align: right;\n",
              "    }\n",
              "</style>\n",
              "<table border=\"1\" class=\"dataframe\">\n",
              "  <thead>\n",
              "    <tr style=\"text-align: right;\">\n",
              "      <th></th>\n",
              "      <th>Unnamed: 0</th>\n",
              "      <th>trans_date_trans_time</th>\n",
              "      <th>cc_num</th>\n",
              "      <th>merchant</th>\n",
              "      <th>category</th>\n",
              "      <th>amt</th>\n",
              "      <th>first</th>\n",
              "      <th>last</th>\n",
              "      <th>gender</th>\n",
              "      <th>street</th>\n",
              "      <th>...</th>\n",
              "      <th>lat</th>\n",
              "      <th>long</th>\n",
              "      <th>city_pop</th>\n",
              "      <th>job</th>\n",
              "      <th>dob</th>\n",
              "      <th>trans_num</th>\n",
              "      <th>unix_time</th>\n",
              "      <th>merch_lat</th>\n",
              "      <th>merch_long</th>\n",
              "      <th>is_fraud</th>\n",
              "    </tr>\n",
              "  </thead>\n",
              "  <tbody>\n",
              "    <tr>\n",
              "      <th>88643</th>\n",
              "      <td>88643</td>\n",
              "      <td>2019-02-22 01:14:39</td>\n",
              "      <td>342952484382519</td>\n",
              "      <td>fraud_Heller, Gutmann and Zieme</td>\n",
              "      <td>grocery_pos</td>\n",
              "      <td>81.07</td>\n",
              "      <td>Kayla</td>\n",
              "      <td>Jones</td>\n",
              "      <td>F</td>\n",
              "      <td>6033 Young Track Suite 804</td>\n",
              "      <td>...</td>\n",
              "      <td>42.0158</td>\n",
              "      <td>-73.2913</td>\n",
              "      <td>647</td>\n",
              "      <td>Comptroller</td>\n",
              "      <td>1987-09-26</td>\n",
              "      <td>274710b082130c6fea0fd2c5581a610f</td>\n",
              "      <td>1329873279</td>\n",
              "      <td>41.452457</td>\n",
              "      <td>-72.918018</td>\n",
              "      <td>0</td>\n",
              "    </tr>\n",
              "    <tr>\n",
              "      <th>1238538</th>\n",
              "      <td>1238538</td>\n",
              "      <td>2020-05-31 21:28:12</td>\n",
              "      <td>30371006069917</td>\n",
              "      <td>fraud_Koss, Hansen and Lueilwitz</td>\n",
              "      <td>home</td>\n",
              "      <td>27.73</td>\n",
              "      <td>Robert</td>\n",
              "      <td>James</td>\n",
              "      <td>M</td>\n",
              "      <td>92021 Miranda Meadows</td>\n",
              "      <td>...</td>\n",
              "      <td>38.1380</td>\n",
              "      <td>-89.2231</td>\n",
              "      <td>2135</td>\n",
              "      <td>Development worker, community</td>\n",
              "      <td>1961-01-31</td>\n",
              "      <td>4d03613cc60858bda1a2601ede542773</td>\n",
              "      <td>1370035692</td>\n",
              "      <td>38.778411</td>\n",
              "      <td>-88.854934</td>\n",
              "      <td>0</td>\n",
              "    </tr>\n",
              "  </tbody>\n",
              "</table>\n",
              "<p>2 rows × 23 columns</p>\n",
              "</div>"
            ],
            "text/plain": [
              "         Unnamed: 0 trans_date_trans_time           cc_num  \\\n",
              "88643         88643   2019-02-22 01:14:39  342952484382519   \n",
              "1238538     1238538   2020-05-31 21:28:12   30371006069917   \n",
              "\n",
              "                                 merchant     category    amt   first   last  \\\n",
              "88643     fraud_Heller, Gutmann and Zieme  grocery_pos  81.07   Kayla  Jones   \n",
              "1238538  fraud_Koss, Hansen and Lueilwitz         home  27.73  Robert  James   \n",
              "\n",
              "        gender                      street  ...      lat     long  city_pop  \\\n",
              "88643        F  6033 Young Track Suite 804  ...  42.0158 -73.2913       647   \n",
              "1238538      M       92021 Miranda Meadows  ...  38.1380 -89.2231      2135   \n",
              "\n",
              "                                   job         dob  \\\n",
              "88643                      Comptroller  1987-09-26   \n",
              "1238538  Development worker, community  1961-01-31   \n",
              "\n",
              "                                trans_num   unix_time  merch_lat merch_long  \\\n",
              "88643    274710b082130c6fea0fd2c5581a610f  1329873279  41.452457 -72.918018   \n",
              "1238538  4d03613cc60858bda1a2601ede542773  1370035692  38.778411 -88.854934   \n",
              "\n",
              "         is_fraud  \n",
              "88643           0  \n",
              "1238538         0  \n",
              "\n",
              "[2 rows x 23 columns]"
            ]
          },
          "execution_count": 3,
          "metadata": {},
          "output_type": "execute_result"
        }
      ],
      "source": [
        "#select 100,000 random sample from trainset\n",
        "sample_train = train_data.sample(100000, random_state = 50)\n",
        "\n",
        "#select 50,000 random sample from testset\n",
        "sample_test = test_data.sample(50000, random_state = 50)\n",
        "\n",
        "#print top 2 records\n",
        "sample_train.head(2)"
      ]
    },
    {
      "cell_type": "code",
      "execution_count": null,
      "id": "d826e8eb",
      "metadata": {
        "id": "d826e8eb",
        "outputId": "fdb8b4dc-3ec8-4094-ab8a-cee68ac69090"
      },
      "outputs": [
        {
          "data": {
            "text/html": [
              "<div>\n",
              "<style scoped>\n",
              "    .dataframe tbody tr th:only-of-type {\n",
              "        vertical-align: middle;\n",
              "    }\n",
              "\n",
              "    .dataframe tbody tr th {\n",
              "        vertical-align: top;\n",
              "    }\n",
              "\n",
              "    .dataframe thead th {\n",
              "        text-align: right;\n",
              "    }\n",
              "</style>\n",
              "<table border=\"1\" class=\"dataframe\">\n",
              "  <thead>\n",
              "    <tr style=\"text-align: right;\">\n",
              "      <th></th>\n",
              "      <th>Unnamed: 0</th>\n",
              "      <th>trans_date_trans_time</th>\n",
              "      <th>cc_num</th>\n",
              "      <th>merchant</th>\n",
              "      <th>category</th>\n",
              "      <th>amt</th>\n",
              "      <th>first</th>\n",
              "      <th>last</th>\n",
              "      <th>gender</th>\n",
              "      <th>street</th>\n",
              "      <th>...</th>\n",
              "      <th>lat</th>\n",
              "      <th>long</th>\n",
              "      <th>city_pop</th>\n",
              "      <th>job</th>\n",
              "      <th>dob</th>\n",
              "      <th>trans_num</th>\n",
              "      <th>unix_time</th>\n",
              "      <th>merch_lat</th>\n",
              "      <th>merch_long</th>\n",
              "      <th>is_fraud</th>\n",
              "    </tr>\n",
              "  </thead>\n",
              "  <tbody>\n",
              "    <tr>\n",
              "      <th>266590</th>\n",
              "      <td>266590</td>\n",
              "      <td>2020-09-28 01:05:28</td>\n",
              "      <td>4800395067176717</td>\n",
              "      <td>fraud_Baumbach, Strosin and Nicolas</td>\n",
              "      <td>shopping_pos</td>\n",
              "      <td>6.20</td>\n",
              "      <td>Daniel</td>\n",
              "      <td>Owens</td>\n",
              "      <td>M</td>\n",
              "      <td>88794 Mandy Lodge Apt. 874</td>\n",
              "      <td>...</td>\n",
              "      <td>41.6964</td>\n",
              "      <td>-96.9858</td>\n",
              "      <td>1063</td>\n",
              "      <td>Research scientist (maths)</td>\n",
              "      <td>1928-04-02</td>\n",
              "      <td>d7949ba120891cf1906170a2ac61456c</td>\n",
              "      <td>1380330328</td>\n",
              "      <td>42.416783</td>\n",
              "      <td>-96.439836</td>\n",
              "      <td>0</td>\n",
              "    </tr>\n",
              "    <tr>\n",
              "      <th>232959</th>\n",
              "      <td>232959</td>\n",
              "      <td>2020-09-13 12:55:26</td>\n",
              "      <td>180017442990269</td>\n",
              "      <td>fraud_Bartoletti and Sons</td>\n",
              "      <td>personal_care</td>\n",
              "      <td>19.37</td>\n",
              "      <td>Michelle</td>\n",
              "      <td>Anderson</td>\n",
              "      <td>F</td>\n",
              "      <td>28311 Dennis Trace</td>\n",
              "      <td>...</td>\n",
              "      <td>42.6853</td>\n",
              "      <td>-73.8253</td>\n",
              "      <td>151022</td>\n",
              "      <td>Designer, textile</td>\n",
              "      <td>1939-06-01</td>\n",
              "      <td>94022e65a1334729b2789ed7dc8342f4</td>\n",
              "      <td>1379076926</td>\n",
              "      <td>41.881164</td>\n",
              "      <td>-73.041856</td>\n",
              "      <td>0</td>\n",
              "    </tr>\n",
              "  </tbody>\n",
              "</table>\n",
              "<p>2 rows × 23 columns</p>\n",
              "</div>"
            ],
            "text/plain": [
              "        Unnamed: 0 trans_date_trans_time            cc_num  \\\n",
              "266590      266590   2020-09-28 01:05:28  4800395067176717   \n",
              "232959      232959   2020-09-13 12:55:26   180017442990269   \n",
              "\n",
              "                                   merchant       category    amt     first  \\\n",
              "266590  fraud_Baumbach, Strosin and Nicolas   shopping_pos   6.20    Daniel   \n",
              "232959            fraud_Bartoletti and Sons  personal_care  19.37  Michelle   \n",
              "\n",
              "            last gender                      street  ...      lat     long  \\\n",
              "266590     Owens      M  88794 Mandy Lodge Apt. 874  ...  41.6964 -96.9858   \n",
              "232959  Anderson      F          28311 Dennis Trace  ...  42.6853 -73.8253   \n",
              "\n",
              "        city_pop                         job         dob  \\\n",
              "266590      1063  Research scientist (maths)  1928-04-02   \n",
              "232959    151022           Designer, textile  1939-06-01   \n",
              "\n",
              "                               trans_num   unix_time  merch_lat merch_long  \\\n",
              "266590  d7949ba120891cf1906170a2ac61456c  1380330328  42.416783 -96.439836   \n",
              "232959  94022e65a1334729b2789ed7dc8342f4  1379076926  41.881164 -73.041856   \n",
              "\n",
              "        is_fraud  \n",
              "266590         0  \n",
              "232959         0  \n",
              "\n",
              "[2 rows x 23 columns]"
            ]
          },
          "execution_count": 4,
          "metadata": {},
          "output_type": "execute_result"
        }
      ],
      "source": [
        "sample_test.head(2)"
      ]
    },
    {
      "cell_type": "code",
      "execution_count": null,
      "id": "dcd39bcc",
      "metadata": {
        "id": "dcd39bcc",
        "outputId": "42264237-d620-4fbf-8f48-5fc8af0ec9bd"
      },
      "outputs": [
        {
          "data": {
            "text/html": [
              "<div>\n",
              "<style scoped>\n",
              "    .dataframe tbody tr th:only-of-type {\n",
              "        vertical-align: middle;\n",
              "    }\n",
              "\n",
              "    .dataframe tbody tr th {\n",
              "        vertical-align: top;\n",
              "    }\n",
              "\n",
              "    .dataframe thead th {\n",
              "        text-align: right;\n",
              "    }\n",
              "</style>\n",
              "<table border=\"1\" class=\"dataframe\">\n",
              "  <thead>\n",
              "    <tr style=\"text-align: right;\">\n",
              "      <th></th>\n",
              "      <th>Unnamed: 0</th>\n",
              "      <th>trans_date_trans_time</th>\n",
              "      <th>cc_num</th>\n",
              "      <th>merchant</th>\n",
              "      <th>category</th>\n",
              "      <th>amt</th>\n",
              "      <th>first</th>\n",
              "      <th>last</th>\n",
              "      <th>gender</th>\n",
              "      <th>street</th>\n",
              "      <th>city</th>\n",
              "      <th>state</th>\n",
              "      <th>zip</th>\n",
              "      <th>lat</th>\n",
              "      <th>long</th>\n",
              "      <th>city_pop</th>\n",
              "      <th>job</th>\n",
              "      <th>dob</th>\n",
              "      <th>trans_num</th>\n",
              "      <th>unix_time</th>\n",
              "      <th>merch_lat</th>\n",
              "      <th>merch_long</th>\n",
              "      <th>is_fraud</th>\n",
              "    </tr>\n",
              "  </thead>\n",
              "  <tbody>\n",
              "    <tr>\n",
              "      <th>88643</th>\n",
              "      <td>88643</td>\n",
              "      <td>2019-02-22 01:14:39</td>\n",
              "      <td>342952484382519</td>\n",
              "      <td>fraud_Heller, Gutmann and Zieme</td>\n",
              "      <td>grocery_pos</td>\n",
              "      <td>81.07</td>\n",
              "      <td>Kayla</td>\n",
              "      <td>Jones</td>\n",
              "      <td>F</td>\n",
              "      <td>6033 Young Track Suite 804</td>\n",
              "      <td>East Canaan</td>\n",
              "      <td>CT</td>\n",
              "      <td>6024</td>\n",
              "      <td>42.0158</td>\n",
              "      <td>-73.2913</td>\n",
              "      <td>647</td>\n",
              "      <td>Comptroller</td>\n",
              "      <td>1987-09-26</td>\n",
              "      <td>274710b082130c6fea0fd2c5581a610f</td>\n",
              "      <td>1329873279</td>\n",
              "      <td>41.452457</td>\n",
              "      <td>-72.918018</td>\n",
              "      <td>0</td>\n",
              "    </tr>\n",
              "    <tr>\n",
              "      <th>1238538</th>\n",
              "      <td>1238538</td>\n",
              "      <td>2020-05-31 21:28:12</td>\n",
              "      <td>30371006069917</td>\n",
              "      <td>fraud_Koss, Hansen and Lueilwitz</td>\n",
              "      <td>home</td>\n",
              "      <td>27.73</td>\n",
              "      <td>Robert</td>\n",
              "      <td>James</td>\n",
              "      <td>M</td>\n",
              "      <td>92021 Miranda Meadows</td>\n",
              "      <td>Tamaroa</td>\n",
              "      <td>IL</td>\n",
              "      <td>62888</td>\n",
              "      <td>38.1380</td>\n",
              "      <td>-89.2231</td>\n",
              "      <td>2135</td>\n",
              "      <td>Development worker, community</td>\n",
              "      <td>1961-01-31</td>\n",
              "      <td>4d03613cc60858bda1a2601ede542773</td>\n",
              "      <td>1370035692</td>\n",
              "      <td>38.778411</td>\n",
              "      <td>-88.854934</td>\n",
              "      <td>0</td>\n",
              "    </tr>\n",
              "    <tr>\n",
              "      <th>18146</th>\n",
              "      <td>18146</td>\n",
              "      <td>2019-01-11 22:16:14</td>\n",
              "      <td>4681601008538160</td>\n",
              "      <td>fraud_Cartwright PLC</td>\n",
              "      <td>kids_pets</td>\n",
              "      <td>190.34</td>\n",
              "      <td>Tammy</td>\n",
              "      <td>Davis</td>\n",
              "      <td>F</td>\n",
              "      <td>77663 Colleen Freeway</td>\n",
              "      <td>Moundsville</td>\n",
              "      <td>WV</td>\n",
              "      <td>26041</td>\n",
              "      <td>39.9148</td>\n",
              "      <td>-80.7310</td>\n",
              "      <td>16183</td>\n",
              "      <td>Physiotherapist</td>\n",
              "      <td>1977-08-12</td>\n",
              "      <td>5403fa79fbbc397db003ec4ee3f48630</td>\n",
              "      <td>1326320174</td>\n",
              "      <td>39.342257</td>\n",
              "      <td>-81.601052</td>\n",
              "      <td>0</td>\n",
              "    </tr>\n",
              "  </tbody>\n",
              "</table>\n",
              "</div>"
            ],
            "text/plain": [
              "         Unnamed: 0 trans_date_trans_time            cc_num  \\\n",
              "88643         88643   2019-02-22 01:14:39   342952484382519   \n",
              "1238538     1238538   2020-05-31 21:28:12    30371006069917   \n",
              "18146         18146   2019-01-11 22:16:14  4681601008538160   \n",
              "\n",
              "                                 merchant     category     amt   first   last  \\\n",
              "88643     fraud_Heller, Gutmann and Zieme  grocery_pos   81.07   Kayla  Jones   \n",
              "1238538  fraud_Koss, Hansen and Lueilwitz         home   27.73  Robert  James   \n",
              "18146                fraud_Cartwright PLC    kids_pets  190.34   Tammy  Davis   \n",
              "\n",
              "        gender                      street         city state    zip      lat  \\\n",
              "88643        F  6033 Young Track Suite 804  East Canaan    CT   6024  42.0158   \n",
              "1238538      M       92021 Miranda Meadows      Tamaroa    IL  62888  38.1380   \n",
              "18146        F       77663 Colleen Freeway  Moundsville    WV  26041  39.9148   \n",
              "\n",
              "            long  city_pop                            job         dob  \\\n",
              "88643   -73.2913       647                    Comptroller  1987-09-26   \n",
              "1238538 -89.2231      2135  Development worker, community  1961-01-31   \n",
              "18146   -80.7310     16183                Physiotherapist  1977-08-12   \n",
              "\n",
              "                                trans_num   unix_time  merch_lat  merch_long  \\\n",
              "88643    274710b082130c6fea0fd2c5581a610f  1329873279  41.452457  -72.918018   \n",
              "1238538  4d03613cc60858bda1a2601ede542773  1370035692  38.778411  -88.854934   \n",
              "18146    5403fa79fbbc397db003ec4ee3f48630  1326320174  39.342257  -81.601052   \n",
              "\n",
              "         is_fraud  \n",
              "88643           0  \n",
              "1238538         0  \n",
              "18146           0  "
            ]
          },
          "execution_count": 5,
          "metadata": {},
          "output_type": "execute_result"
        }
      ],
      "source": [
        "#save randomized sample of trainset as an excel file(csv format)\n",
        "sample_train.to_csv('sample_train.csv', index=False)\n",
        "\n",
        "#save randomized sample of testset as an excel file(csv format)\n",
        "sample_test.to_csv('sample_test.csv',  index=False)\n",
        "\n",
        "#make all column visible\n",
        "pd.set_option('display.max_columns', None)\n",
        "\n",
        "#print top 3 observations or records\n",
        "sample_train.head(3)"
      ]
    },
    {
      "cell_type": "code",
      "execution_count": null,
      "id": "ed9042cf",
      "metadata": {
        "id": "ed9042cf",
        "outputId": "9746f11c-dbcc-4d46-bbb4-69f844af761d"
      },
      "outputs": [
        {
          "data": {
            "text/html": [
              "<div>\n",
              "<style scoped>\n",
              "    .dataframe tbody tr th:only-of-type {\n",
              "        vertical-align: middle;\n",
              "    }\n",
              "\n",
              "    .dataframe tbody tr th {\n",
              "        vertical-align: top;\n",
              "    }\n",
              "\n",
              "    .dataframe thead th {\n",
              "        text-align: right;\n",
              "    }\n",
              "</style>\n",
              "<table border=\"1\" class=\"dataframe\">\n",
              "  <thead>\n",
              "    <tr style=\"text-align: right;\">\n",
              "      <th></th>\n",
              "      <th>Unnamed: 0</th>\n",
              "      <th>cc_num</th>\n",
              "      <th>amt</th>\n",
              "      <th>zip</th>\n",
              "      <th>lat</th>\n",
              "      <th>long</th>\n",
              "      <th>city_pop</th>\n",
              "      <th>unix_time</th>\n",
              "      <th>merch_lat</th>\n",
              "      <th>merch_long</th>\n",
              "      <th>is_fraud</th>\n",
              "    </tr>\n",
              "  </thead>\n",
              "  <tbody>\n",
              "    <tr>\n",
              "      <th>count</th>\n",
              "      <td>1.000000e+05</td>\n",
              "      <td>1.000000e+05</td>\n",
              "      <td>100000.000000</td>\n",
              "      <td>100000.000000</td>\n",
              "      <td>100000.000000</td>\n",
              "      <td>100000.000000</td>\n",
              "      <td>1.000000e+05</td>\n",
              "      <td>1.000000e+05</td>\n",
              "      <td>100000.000000</td>\n",
              "      <td>100000.000000</td>\n",
              "      <td>100000.000000</td>\n",
              "    </tr>\n",
              "    <tr>\n",
              "      <th>mean</th>\n",
              "      <td>6.502823e+05</td>\n",
              "      <td>4.177757e+17</td>\n",
              "      <td>70.386721</td>\n",
              "      <td>48752.333140</td>\n",
              "      <td>38.516398</td>\n",
              "      <td>-90.185466</td>\n",
              "      <td>8.987381e+04</td>\n",
              "      <td>1.349311e+09</td>\n",
              "      <td>38.515523</td>\n",
              "      <td>-90.185934</td>\n",
              "      <td>0.005600</td>\n",
              "    </tr>\n",
              "    <tr>\n",
              "      <th>std</th>\n",
              "      <td>3.743123e+05</td>\n",
              "      <td>1.310010e+18</td>\n",
              "      <td>152.902651</td>\n",
              "      <td>26857.017051</td>\n",
              "      <td>5.086150</td>\n",
              "      <td>13.715070</td>\n",
              "      <td>3.052955e+05</td>\n",
              "      <td>1.284343e+07</td>\n",
              "      <td>5.122687</td>\n",
              "      <td>13.728255</td>\n",
              "      <td>0.074624</td>\n",
              "    </tr>\n",
              "    <tr>\n",
              "      <th>min</th>\n",
              "      <td>4.000000e+00</td>\n",
              "      <td>6.041621e+10</td>\n",
              "      <td>1.000000</td>\n",
              "      <td>1257.000000</td>\n",
              "      <td>20.027100</td>\n",
              "      <td>-165.672300</td>\n",
              "      <td>2.300000e+01</td>\n",
              "      <td>1.325376e+09</td>\n",
              "      <td>19.029798</td>\n",
              "      <td>-166.666179</td>\n",
              "      <td>0.000000</td>\n",
              "    </tr>\n",
              "    <tr>\n",
              "      <th>25%</th>\n",
              "      <td>3.268738e+05</td>\n",
              "      <td>1.800429e+14</td>\n",
              "      <td>9.720000</td>\n",
              "      <td>26237.000000</td>\n",
              "      <td>34.571500</td>\n",
              "      <td>-96.790900</td>\n",
              "      <td>7.430000e+02</td>\n",
              "      <td>1.338853e+09</td>\n",
              "      <td>34.678973</td>\n",
              "      <td>-96.877719</td>\n",
              "      <td>0.000000</td>\n",
              "    </tr>\n",
              "    <tr>\n",
              "      <th>50%</th>\n",
              "      <td>6.510740e+05</td>\n",
              "      <td>3.521417e+15</td>\n",
              "      <td>47.605000</td>\n",
              "      <td>48174.000000</td>\n",
              "      <td>39.342600</td>\n",
              "      <td>-87.458100</td>\n",
              "      <td>2.456000e+03</td>\n",
              "      <td>1.349376e+09</td>\n",
              "      <td>39.346608</td>\n",
              "      <td>-87.394183</td>\n",
              "      <td>0.000000</td>\n",
              "    </tr>\n",
              "    <tr>\n",
              "      <th>75%</th>\n",
              "      <td>9.745952e+05</td>\n",
              "      <td>4.642255e+15</td>\n",
              "      <td>83.610000</td>\n",
              "      <td>72011.000000</td>\n",
              "      <td>41.940400</td>\n",
              "      <td>-80.158000</td>\n",
              "      <td>2.047800e+04</td>\n",
              "      <td>1.359529e+09</td>\n",
              "      <td>41.964990</td>\n",
              "      <td>-80.248066</td>\n",
              "      <td>0.000000</td>\n",
              "    </tr>\n",
              "    <tr>\n",
              "      <th>max</th>\n",
              "      <td>1.296656e+06</td>\n",
              "      <td>4.992346e+18</td>\n",
              "      <td>14112.590000</td>\n",
              "      <td>99783.000000</td>\n",
              "      <td>66.693300</td>\n",
              "      <td>-67.950300</td>\n",
              "      <td>2.906700e+06</td>\n",
              "      <td>1.371816e+09</td>\n",
              "      <td>66.599806</td>\n",
              "      <td>-66.959178</td>\n",
              "      <td>1.000000</td>\n",
              "    </tr>\n",
              "  </tbody>\n",
              "</table>\n",
              "</div>"
            ],
            "text/plain": [
              "         Unnamed: 0        cc_num            amt            zip  \\\n",
              "count  1.000000e+05  1.000000e+05  100000.000000  100000.000000   \n",
              "mean   6.502823e+05  4.177757e+17      70.386721   48752.333140   \n",
              "std    3.743123e+05  1.310010e+18     152.902651   26857.017051   \n",
              "min    4.000000e+00  6.041621e+10       1.000000    1257.000000   \n",
              "25%    3.268738e+05  1.800429e+14       9.720000   26237.000000   \n",
              "50%    6.510740e+05  3.521417e+15      47.605000   48174.000000   \n",
              "75%    9.745952e+05  4.642255e+15      83.610000   72011.000000   \n",
              "max    1.296656e+06  4.992346e+18   14112.590000   99783.000000   \n",
              "\n",
              "                 lat           long      city_pop     unix_time  \\\n",
              "count  100000.000000  100000.000000  1.000000e+05  1.000000e+05   \n",
              "mean       38.516398     -90.185466  8.987381e+04  1.349311e+09   \n",
              "std         5.086150      13.715070  3.052955e+05  1.284343e+07   \n",
              "min        20.027100    -165.672300  2.300000e+01  1.325376e+09   \n",
              "25%        34.571500     -96.790900  7.430000e+02  1.338853e+09   \n",
              "50%        39.342600     -87.458100  2.456000e+03  1.349376e+09   \n",
              "75%        41.940400     -80.158000  2.047800e+04  1.359529e+09   \n",
              "max        66.693300     -67.950300  2.906700e+06  1.371816e+09   \n",
              "\n",
              "           merch_lat     merch_long       is_fraud  \n",
              "count  100000.000000  100000.000000  100000.000000  \n",
              "mean       38.515523     -90.185934       0.005600  \n",
              "std         5.122687      13.728255       0.074624  \n",
              "min        19.029798    -166.666179       0.000000  \n",
              "25%        34.678973     -96.877719       0.000000  \n",
              "50%        39.346608     -87.394183       0.000000  \n",
              "75%        41.964990     -80.248066       0.000000  \n",
              "max        66.599806     -66.959178       1.000000  "
            ]
          },
          "execution_count": 6,
          "metadata": {},
          "output_type": "execute_result"
        }
      ],
      "source": [
        "sample_train.describe()\n",
        "\n",
        "# count - number of rows in each column\n",
        "# mean - average number in each column\n",
        "# min - minimum value in each column\n",
        "# max - maximum value in each column\n",
        "# 50% - also known as median (the middle number)"
      ]
    },
    {
      "cell_type": "code",
      "execution_count": null,
      "id": "07667596",
      "metadata": {
        "id": "07667596",
        "outputId": "96a5614a-6222-4e8e-c709-a2ab65379e82",
        "colab": {
          "referenced_widgets": [
            "cd2aa90fc3964ab8a9f5d634bcfb8b7b"
          ]
        }
      },
      "outputs": [
        {
          "data": {
            "application/vnd.jupyter.widget-view+json": {
              "model_id": "cd2aa90fc3964ab8a9f5d634bcfb8b7b",
              "version_major": 2,
              "version_minor": 0
            },
            "text/plain": [
              "interactive(children=(Dropdown(description='dataset', options=('Gender', 'Category', 'Fraud', 'Geolocation', '…"
            ]
          },
          "metadata": {},
          "output_type": "display_data"
        },
        {
          "data": {
            "text/plain": [
              "<function __main__.update_plot(dataset)>"
            ]
          },
          "execution_count": 7,
          "metadata": {},
          "output_type": "execute_result"
        }
      ],
      "source": [
        "#frequency of gender, category and geographical distribution\n",
        "def update_plot(dataset):\n",
        "    if dataset == Gender:\n",
        "        plot_1 = sns.countplot(x=\"gender\", data=sample_train)\n",
        "        plot_1.set_title(\"Gender Distribution in Sample Train Dataset\")\n",
        "        for label in plot_1.patches:\n",
        "            plot_1.annotate(str(label.get_height()), (label.get_x() + label.get_width() / 2., label.get_height()), ha='center', va='center', fontsize=12, color='black', xytext=(0, -50), textcoords='offset points')\n",
        "    elif dataset == Category:\n",
        "        plt.figure(figsize=(20, 10)) # sets the figure size to 10x6 inches\n",
        "        plot_2 = sns.countplot(x=\"category\", data=sample_train)\n",
        "        plot_2.set_title(\"Category Distribution in Sample Train Dataset\")\n",
        "        for label in plot_2.patches:\n",
        "            plot_2.annotate(str(label.get_height()), (label.get_x() + label.get_width() / 2., label.get_height()), ha='center', va='center', fontsize=12, color='black', xytext=(0, 15), textcoords='offset points')\n",
        "    elif dataset == Fraud:\n",
        "        plot_3 = sns.countplot(x=\"is_fraud\", data=sample_train)\n",
        "        plot_3.set_title(\"Distribution of Fraudelent Transactions in Sample Train Dataset\")\n",
        "        for label in plot_3.patches:\n",
        "            plot_3.annotate(str(label.get_height()), (label.get_x() + label.get_width() / 2., label.get_height()), ha='center', va='center', fontsize=12, color='black', xytext=(0, 5), textcoords='offset points')  \n",
        "    elif dataset == Geolocation:\n",
        "        plot_4 = sns.scatterplot(data = sample_train, x=\"lat\", y=\"long\", hue = 'is_fraud')\n",
        "        plot_4.set_title(\"Transaction Location in Sample Train Dataset\")\n",
        "    elif dataset == Fraud_Age:\n",
        "        plt.figure(figsize=(20, 10))\n",
        "        sample_train['age']=dt.date.today().year-pd.to_datetime(sample_train['dob']).dt.year\n",
        "        ax=sns.kdeplot(x='age',data=sample_train, hue='is_fraud', common_norm=False)\n",
        "        ax.set_xlabel('Credit Card Holder Age')\n",
        "        ax.set_ylabel('Density')\n",
        "        plt.xticks(np.arange(0,110,5))\n",
        "        plt.title('Age Distribution in Fraudulent vs Non-Fraudulent Transactions')\n",
        "        plt.legend(title='Type', labels=['Fraud', 'Not Fraud'])\n",
        "interact(update_plot, dataset=[\"Gender\", \"Category\", \"Fraud\", \"Geolocation\", \"Fraud_Age\"])"
      ]
    },
    {
      "cell_type": "markdown",
      "id": "ac7903a7",
      "metadata": {
        "id": "ac7903a7"
      },
      "source": [
        "## Phase 2 - Features Engineering"
      ]
    },
    {
      "cell_type": "code",
      "execution_count": null,
      "id": "41d210bc",
      "metadata": {
        "id": "41d210bc",
        "outputId": "26f86605-879b-4744-a7b4-8abbe14727d5"
      },
      "outputs": [
        {
          "data": {
            "text/plain": [
              "(150000, 23)"
            ]
          },
          "execution_count": 8,
          "metadata": {},
          "output_type": "execute_result"
        }
      ],
      "source": [
        "#separate train row\n",
        "sample_train_rows = sample_train.shape[0]\n",
        "\n",
        "#separate test row\n",
        "sample_test_rows = sample_test.shape[0]\n",
        "\n",
        "#merge both train & test rows together\n",
        "main_data = pd.concat((sample_train, sample_test)).reset_index(drop=True)\n",
        "\n",
        "#all data records(both train & test)\n",
        "main_data.shape"
      ]
    },
    {
      "cell_type": "code",
      "execution_count": null,
      "id": "cbe6a89e",
      "metadata": {
        "id": "cbe6a89e",
        "outputId": "a73c2273-4d43-46bc-b6d8-d883df45025b"
      },
      "outputs": [
        {
          "data": {
            "text/plain": [
              "Index(['Unnamed: 0', 'trans_date_trans_time', 'cc_num', 'merchant', 'category',\n",
              "       'amt', 'first', 'last', 'gender', 'street', 'city', 'state', 'zip',\n",
              "       'lat', 'long', 'city_pop', 'job', 'dob', 'trans_num', 'unix_time',\n",
              "       'merch_lat', 'merch_long', 'is_fraud'],\n",
              "      dtype='object')"
            ]
          },
          "execution_count": 9,
          "metadata": {},
          "output_type": "execute_result"
        }
      ],
      "source": [
        "#main data columns\n",
        "main_data.columns"
      ]
    },
    {
      "cell_type": "code",
      "execution_count": null,
      "id": "d6cbc4f0",
      "metadata": {
        "id": "d6cbc4f0",
        "outputId": "6cb95a10-e5a6-4cac-e1d7-b38f792012c8"
      },
      "outputs": [
        {
          "name": "stderr",
          "output_type": "stream",
          "text": [
            "C:\\Users\\Max\\anaconda3\\lib\\site-packages\\pandas\\core\\arrays\\datetimes.py:2199: FutureWarning: The parsing of 'now' in pd.to_datetime without `utc=True` is deprecated. In a future version, this will match Timestamp('now') and Timestamp.now()\n",
            "  result, tz_parsed = tslib.array_to_datetime(\n"
          ]
        }
      ],
      "source": [
        "#count the number of times each credit card was used for transaction\n",
        "main_data['cc_freq'] =main_data['cc_num'].map(main_data['cc_num'].value_counts())\n",
        "\n",
        "#convert trans_date_trans_time to datetime datatype\n",
        "main_data['trans_date_trans_time'] = pd.to_datetime(main_data['trans_date_trans_time'])\n",
        "\n",
        "#extract hour of transaction from datetime\n",
        "main_data['hour_of_txn'] = main_data['trans_date_trans_time'].dt.hour\n",
        "\n",
        "#convert dob to datetime datatype\n",
        "main_data['dob'] = pd.to_datetime(main_data['dob'])\n",
        "\n",
        "#calculate user age from date of birth column\n",
        "now = pd.to_datetime('now')\n",
        "main_data['age'] = now.year - main_data['dob'].dt.year"
      ]
    },
    {
      "cell_type": "code",
      "execution_count": null,
      "id": "e76fb3b5",
      "metadata": {
        "id": "e76fb3b5",
        "outputId": "79cc7727-0e0c-4ca4-b950-2389b5c0ab5c"
      },
      "outputs": [
        {
          "data": {
            "text/plain": [
              "Index(['Unnamed: 0', 'trans_date_trans_time', 'cc_num', 'merchant', 'category',\n",
              "       'amt', 'first', 'last', 'gender', 'street', 'city', 'state', 'zip',\n",
              "       'lat', 'long', 'city_pop', 'job', 'dob', 'trans_num', 'unix_time',\n",
              "       'merch_lat', 'merch_long', 'is_fraud', 'cc_freq', 'hour_of_txn', 'age'],\n",
              "      dtype='object')"
            ]
          },
          "execution_count": 11,
          "metadata": {},
          "output_type": "execute_result"
        }
      ],
      "source": [
        "#all data columns\n",
        "main_data.columns"
      ]
    },
    {
      "cell_type": "code",
      "execution_count": null,
      "id": "faf89fda",
      "metadata": {
        "id": "faf89fda",
        "outputId": "53c6d06e-cc6e-4cf6-c80b-4ff9fe4c2fe3"
      },
      "outputs": [
        {
          "data": {
            "text/plain": [
              "category        object\n",
              "amt            float64\n",
              "lat            float64\n",
              "long           float64\n",
              "merch_lat      float64\n",
              "merch_long     float64\n",
              "is_fraud         int64\n",
              "cc_freq          int64\n",
              "hour_of_txn      int64\n",
              "age              int64\n",
              "dtype: object"
            ]
          },
          "execution_count": 12,
          "metadata": {},
          "output_type": "execute_result"
        }
      ],
      "source": [
        "#a variable name to_drop stores all columns to drop\n",
        "to_drop =['Unnamed: 0','cc_num', 'first', 'last', 'gender', 'trans_date_trans_time', 'merchant', 'street', 'city','state', 'zip','city_pop',\n",
        "          'job','trans_num', 'unix_time' ,'dob']\n",
        "\n",
        "#drop all columns stored in to_drop variable\n",
        "main_data =main_data.drop(to_drop, axis=1)\n",
        "\n",
        "#check data types\n",
        "main_data.dtypes"
      ]
    },
    {
      "cell_type": "code",
      "execution_count": null,
      "id": "267b0393",
      "metadata": {
        "id": "267b0393",
        "outputId": "f5095748-6df5-4443-ce10-83baec9e12b3"
      },
      "outputs": [
        {
          "data": {
            "text/html": [
              "<div>\n",
              "<style scoped>\n",
              "    .dataframe tbody tr th:only-of-type {\n",
              "        vertical-align: middle;\n",
              "    }\n",
              "\n",
              "    .dataframe tbody tr th {\n",
              "        vertical-align: top;\n",
              "    }\n",
              "\n",
              "    .dataframe thead th {\n",
              "        text-align: right;\n",
              "    }\n",
              "</style>\n",
              "<table border=\"1\" class=\"dataframe\">\n",
              "  <thead>\n",
              "    <tr style=\"text-align: right;\">\n",
              "      <th></th>\n",
              "      <th>category</th>\n",
              "      <th>amt</th>\n",
              "      <th>lat</th>\n",
              "      <th>long</th>\n",
              "      <th>merch_lat</th>\n",
              "      <th>merch_long</th>\n",
              "      <th>is_fraud</th>\n",
              "      <th>cc_freq</th>\n",
              "      <th>hour_of_txn</th>\n",
              "      <th>age</th>\n",
              "    </tr>\n",
              "  </thead>\n",
              "  <tbody>\n",
              "    <tr>\n",
              "      <th>0</th>\n",
              "      <td>grocery_pos</td>\n",
              "      <td>81.07</td>\n",
              "      <td>42.0158</td>\n",
              "      <td>-73.2913</td>\n",
              "      <td>41.452457</td>\n",
              "      <td>-72.918018</td>\n",
              "      <td>0</td>\n",
              "      <td>374</td>\n",
              "      <td>1</td>\n",
              "      <td>36</td>\n",
              "    </tr>\n",
              "    <tr>\n",
              "      <th>1</th>\n",
              "      <td>home</td>\n",
              "      <td>27.73</td>\n",
              "      <td>38.1380</td>\n",
              "      <td>-89.2231</td>\n",
              "      <td>38.778411</td>\n",
              "      <td>-88.854934</td>\n",
              "      <td>0</td>\n",
              "      <td>125</td>\n",
              "      <td>21</td>\n",
              "      <td>62</td>\n",
              "    </tr>\n",
              "    <tr>\n",
              "      <th>2</th>\n",
              "      <td>kids_pets</td>\n",
              "      <td>190.34</td>\n",
              "      <td>39.9148</td>\n",
              "      <td>-80.7310</td>\n",
              "      <td>39.342257</td>\n",
              "      <td>-81.601052</td>\n",
              "      <td>0</td>\n",
              "      <td>303</td>\n",
              "      <td>22</td>\n",
              "      <td>46</td>\n",
              "    </tr>\n",
              "    <tr>\n",
              "      <th>3</th>\n",
              "      <td>kids_pets</td>\n",
              "      <td>134.74</td>\n",
              "      <td>38.8320</td>\n",
              "      <td>-77.1200</td>\n",
              "      <td>39.194023</td>\n",
              "      <td>-76.558310</td>\n",
              "      <td>0</td>\n",
              "      <td>125</td>\n",
              "      <td>14</td>\n",
              "      <td>32</td>\n",
              "    </tr>\n",
              "    <tr>\n",
              "      <th>4</th>\n",
              "      <td>shopping_net</td>\n",
              "      <td>7.66</td>\n",
              "      <td>39.9148</td>\n",
              "      <td>-80.7310</td>\n",
              "      <td>40.907353</td>\n",
              "      <td>-80.207589</td>\n",
              "      <td>0</td>\n",
              "      <td>303</td>\n",
              "      <td>17</td>\n",
              "      <td>46</td>\n",
              "    </tr>\n",
              "  </tbody>\n",
              "</table>\n",
              "</div>"
            ],
            "text/plain": [
              "       category     amt      lat     long  merch_lat  merch_long  is_fraud  \\\n",
              "0   grocery_pos   81.07  42.0158 -73.2913  41.452457  -72.918018         0   \n",
              "1          home   27.73  38.1380 -89.2231  38.778411  -88.854934         0   \n",
              "2     kids_pets  190.34  39.9148 -80.7310  39.342257  -81.601052         0   \n",
              "3     kids_pets  134.74  38.8320 -77.1200  39.194023  -76.558310         0   \n",
              "4  shopping_net    7.66  39.9148 -80.7310  40.907353  -80.207589         0   \n",
              "\n",
              "   cc_freq  hour_of_txn  age  \n",
              "0      374            1   36  \n",
              "1      125           21   62  \n",
              "2      303           22   46  \n",
              "3      125           14   32  \n",
              "4      303           17   46  "
            ]
          },
          "execution_count": 13,
          "metadata": {},
          "output_type": "execute_result"
        }
      ],
      "source": [
        "main_data.head(5)"
      ]
    },
    {
      "cell_type": "code",
      "execution_count": null,
      "id": "ea1c4c8b",
      "metadata": {
        "id": "ea1c4c8b"
      },
      "outputs": [],
      "source": [
        "#encode categorical variable to numerical variable\n",
        "main_data =pd.get_dummies(data = main_data, columns=['category'], drop_first=True)\n",
        "\n",
        "#extract the train set record back\n",
        "sample_train = main_data[:sample_train_rows]\n",
        "\n",
        "#extract the test set record back\n",
        "sample_test = main_data[sample_train_rows:]"
      ]
    },
    {
      "cell_type": "code",
      "execution_count": null,
      "id": "6ef8f547",
      "metadata": {
        "id": "6ef8f547",
        "outputId": "34cbdab0-f1f3-47d3-c5de-5938aa7725ff"
      },
      "outputs": [
        {
          "data": {
            "text/html": [
              "<div>\n",
              "<style scoped>\n",
              "    .dataframe tbody tr th:only-of-type {\n",
              "        vertical-align: middle;\n",
              "    }\n",
              "\n",
              "    .dataframe tbody tr th {\n",
              "        vertical-align: top;\n",
              "    }\n",
              "\n",
              "    .dataframe thead th {\n",
              "        text-align: right;\n",
              "    }\n",
              "</style>\n",
              "<table border=\"1\" class=\"dataframe\">\n",
              "  <thead>\n",
              "    <tr style=\"text-align: right;\">\n",
              "      <th></th>\n",
              "      <th>amt</th>\n",
              "      <th>lat</th>\n",
              "      <th>long</th>\n",
              "      <th>merch_lat</th>\n",
              "      <th>merch_long</th>\n",
              "      <th>is_fraud</th>\n",
              "      <th>cc_freq</th>\n",
              "      <th>hour_of_txn</th>\n",
              "      <th>age</th>\n",
              "      <th>category_food_dining</th>\n",
              "      <th>category_gas_transport</th>\n",
              "      <th>category_grocery_net</th>\n",
              "      <th>category_grocery_pos</th>\n",
              "      <th>category_health_fitness</th>\n",
              "      <th>category_home</th>\n",
              "      <th>category_kids_pets</th>\n",
              "      <th>category_misc_net</th>\n",
              "      <th>category_misc_pos</th>\n",
              "      <th>category_personal_care</th>\n",
              "      <th>category_shopping_net</th>\n",
              "      <th>category_shopping_pos</th>\n",
              "      <th>category_travel</th>\n",
              "    </tr>\n",
              "  </thead>\n",
              "  <tbody>\n",
              "    <tr>\n",
              "      <th>0</th>\n",
              "      <td>81.07</td>\n",
              "      <td>42.0158</td>\n",
              "      <td>-73.2913</td>\n",
              "      <td>41.452457</td>\n",
              "      <td>-72.918018</td>\n",
              "      <td>0</td>\n",
              "      <td>374</td>\n",
              "      <td>1</td>\n",
              "      <td>36</td>\n",
              "      <td>0</td>\n",
              "      <td>0</td>\n",
              "      <td>0</td>\n",
              "      <td>1</td>\n",
              "      <td>0</td>\n",
              "      <td>0</td>\n",
              "      <td>0</td>\n",
              "      <td>0</td>\n",
              "      <td>0</td>\n",
              "      <td>0</td>\n",
              "      <td>0</td>\n",
              "      <td>0</td>\n",
              "      <td>0</td>\n",
              "    </tr>\n",
              "    <tr>\n",
              "      <th>1</th>\n",
              "      <td>27.73</td>\n",
              "      <td>38.1380</td>\n",
              "      <td>-89.2231</td>\n",
              "      <td>38.778411</td>\n",
              "      <td>-88.854934</td>\n",
              "      <td>0</td>\n",
              "      <td>125</td>\n",
              "      <td>21</td>\n",
              "      <td>62</td>\n",
              "      <td>0</td>\n",
              "      <td>0</td>\n",
              "      <td>0</td>\n",
              "      <td>0</td>\n",
              "      <td>0</td>\n",
              "      <td>1</td>\n",
              "      <td>0</td>\n",
              "      <td>0</td>\n",
              "      <td>0</td>\n",
              "      <td>0</td>\n",
              "      <td>0</td>\n",
              "      <td>0</td>\n",
              "      <td>0</td>\n",
              "    </tr>\n",
              "    <tr>\n",
              "      <th>2</th>\n",
              "      <td>190.34</td>\n",
              "      <td>39.9148</td>\n",
              "      <td>-80.7310</td>\n",
              "      <td>39.342257</td>\n",
              "      <td>-81.601052</td>\n",
              "      <td>0</td>\n",
              "      <td>303</td>\n",
              "      <td>22</td>\n",
              "      <td>46</td>\n",
              "      <td>0</td>\n",
              "      <td>0</td>\n",
              "      <td>0</td>\n",
              "      <td>0</td>\n",
              "      <td>0</td>\n",
              "      <td>0</td>\n",
              "      <td>1</td>\n",
              "      <td>0</td>\n",
              "      <td>0</td>\n",
              "      <td>0</td>\n",
              "      <td>0</td>\n",
              "      <td>0</td>\n",
              "      <td>0</td>\n",
              "    </tr>\n",
              "    <tr>\n",
              "      <th>3</th>\n",
              "      <td>134.74</td>\n",
              "      <td>38.8320</td>\n",
              "      <td>-77.1200</td>\n",
              "      <td>39.194023</td>\n",
              "      <td>-76.558310</td>\n",
              "      <td>0</td>\n",
              "      <td>125</td>\n",
              "      <td>14</td>\n",
              "      <td>32</td>\n",
              "      <td>0</td>\n",
              "      <td>0</td>\n",
              "      <td>0</td>\n",
              "      <td>0</td>\n",
              "      <td>0</td>\n",
              "      <td>0</td>\n",
              "      <td>1</td>\n",
              "      <td>0</td>\n",
              "      <td>0</td>\n",
              "      <td>0</td>\n",
              "      <td>0</td>\n",
              "      <td>0</td>\n",
              "      <td>0</td>\n",
              "    </tr>\n",
              "    <tr>\n",
              "      <th>4</th>\n",
              "      <td>7.66</td>\n",
              "      <td>39.9148</td>\n",
              "      <td>-80.7310</td>\n",
              "      <td>40.907353</td>\n",
              "      <td>-80.207589</td>\n",
              "      <td>0</td>\n",
              "      <td>303</td>\n",
              "      <td>17</td>\n",
              "      <td>46</td>\n",
              "      <td>0</td>\n",
              "      <td>0</td>\n",
              "      <td>0</td>\n",
              "      <td>0</td>\n",
              "      <td>0</td>\n",
              "      <td>0</td>\n",
              "      <td>0</td>\n",
              "      <td>0</td>\n",
              "      <td>0</td>\n",
              "      <td>0</td>\n",
              "      <td>1</td>\n",
              "      <td>0</td>\n",
              "      <td>0</td>\n",
              "    </tr>\n",
              "  </tbody>\n",
              "</table>\n",
              "</div>"
            ],
            "text/plain": [
              "      amt      lat     long  merch_lat  merch_long  is_fraud  cc_freq  \\\n",
              "0   81.07  42.0158 -73.2913  41.452457  -72.918018         0      374   \n",
              "1   27.73  38.1380 -89.2231  38.778411  -88.854934         0      125   \n",
              "2  190.34  39.9148 -80.7310  39.342257  -81.601052         0      303   \n",
              "3  134.74  38.8320 -77.1200  39.194023  -76.558310         0      125   \n",
              "4    7.66  39.9148 -80.7310  40.907353  -80.207589         0      303   \n",
              "\n",
              "   hour_of_txn  age  category_food_dining  category_gas_transport  \\\n",
              "0            1   36                     0                       0   \n",
              "1           21   62                     0                       0   \n",
              "2           22   46                     0                       0   \n",
              "3           14   32                     0                       0   \n",
              "4           17   46                     0                       0   \n",
              "\n",
              "   category_grocery_net  category_grocery_pos  category_health_fitness  \\\n",
              "0                     0                     1                        0   \n",
              "1                     0                     0                        0   \n",
              "2                     0                     0                        0   \n",
              "3                     0                     0                        0   \n",
              "4                     0                     0                        0   \n",
              "\n",
              "   category_home  category_kids_pets  category_misc_net  category_misc_pos  \\\n",
              "0              0                   0                  0                  0   \n",
              "1              1                   0                  0                  0   \n",
              "2              0                   1                  0                  0   \n",
              "3              0                   1                  0                  0   \n",
              "4              0                   0                  0                  0   \n",
              "\n",
              "   category_personal_care  category_shopping_net  category_shopping_pos  \\\n",
              "0                       0                      0                      0   \n",
              "1                       0                      0                      0   \n",
              "2                       0                      0                      0   \n",
              "3                       0                      0                      0   \n",
              "4                       0                      1                      0   \n",
              "\n",
              "   category_travel  \n",
              "0                0  \n",
              "1                0  \n",
              "2                0  \n",
              "3                0  \n",
              "4                0  "
            ]
          },
          "execution_count": 15,
          "metadata": {},
          "output_type": "execute_result"
        }
      ],
      "source": [
        "sample_train.head()"
      ]
    },
    {
      "cell_type": "code",
      "execution_count": null,
      "id": "5008d41a",
      "metadata": {
        "id": "5008d41a",
        "outputId": "310cf06c-e6a9-440d-f3ae-124ae63e0311"
      },
      "outputs": [
        {
          "data": {
            "text/html": [
              "<div>\n",
              "<style scoped>\n",
              "    .dataframe tbody tr th:only-of-type {\n",
              "        vertical-align: middle;\n",
              "    }\n",
              "\n",
              "    .dataframe tbody tr th {\n",
              "        vertical-align: top;\n",
              "    }\n",
              "\n",
              "    .dataframe thead th {\n",
              "        text-align: right;\n",
              "    }\n",
              "</style>\n",
              "<table border=\"1\" class=\"dataframe\">\n",
              "  <thead>\n",
              "    <tr style=\"text-align: right;\">\n",
              "      <th></th>\n",
              "      <th>amt</th>\n",
              "      <th>lat</th>\n",
              "      <th>long</th>\n",
              "      <th>merch_lat</th>\n",
              "      <th>merch_long</th>\n",
              "      <th>is_fraud</th>\n",
              "      <th>cc_freq</th>\n",
              "      <th>hour_of_txn</th>\n",
              "      <th>age</th>\n",
              "      <th>category_food_dining</th>\n",
              "      <th>category_gas_transport</th>\n",
              "      <th>category_grocery_net</th>\n",
              "      <th>category_grocery_pos</th>\n",
              "      <th>category_health_fitness</th>\n",
              "      <th>category_home</th>\n",
              "      <th>category_kids_pets</th>\n",
              "      <th>category_misc_net</th>\n",
              "      <th>category_misc_pos</th>\n",
              "      <th>category_personal_care</th>\n",
              "      <th>category_shopping_net</th>\n",
              "      <th>category_shopping_pos</th>\n",
              "      <th>category_travel</th>\n",
              "    </tr>\n",
              "  </thead>\n",
              "  <tbody>\n",
              "    <tr>\n",
              "      <th>100000</th>\n",
              "      <td>6.20</td>\n",
              "      <td>41.6964</td>\n",
              "      <td>-96.9858</td>\n",
              "      <td>42.416783</td>\n",
              "      <td>-96.439836</td>\n",
              "      <td>0</td>\n",
              "      <td>195</td>\n",
              "      <td>1</td>\n",
              "      <td>95</td>\n",
              "      <td>0</td>\n",
              "      <td>0</td>\n",
              "      <td>0</td>\n",
              "      <td>0</td>\n",
              "      <td>0</td>\n",
              "      <td>0</td>\n",
              "      <td>0</td>\n",
              "      <td>0</td>\n",
              "      <td>0</td>\n",
              "      <td>0</td>\n",
              "      <td>0</td>\n",
              "      <td>1</td>\n",
              "      <td>0</td>\n",
              "    </tr>\n",
              "    <tr>\n",
              "      <th>100001</th>\n",
              "      <td>19.37</td>\n",
              "      <td>42.6853</td>\n",
              "      <td>-73.8253</td>\n",
              "      <td>41.881164</td>\n",
              "      <td>-73.041856</td>\n",
              "      <td>0</td>\n",
              "      <td>128</td>\n",
              "      <td>12</td>\n",
              "      <td>84</td>\n",
              "      <td>0</td>\n",
              "      <td>0</td>\n",
              "      <td>0</td>\n",
              "      <td>0</td>\n",
              "      <td>0</td>\n",
              "      <td>0</td>\n",
              "      <td>0</td>\n",
              "      <td>0</td>\n",
              "      <td>0</td>\n",
              "      <td>1</td>\n",
              "      <td>0</td>\n",
              "      <td>0</td>\n",
              "      <td>0</td>\n",
              "    </tr>\n",
              "    <tr>\n",
              "      <th>100002</th>\n",
              "      <td>58.70</td>\n",
              "      <td>36.1183</td>\n",
              "      <td>-79.5685</td>\n",
              "      <td>35.374583</td>\n",
              "      <td>-79.337287</td>\n",
              "      <td>0</td>\n",
              "      <td>112</td>\n",
              "      <td>3</td>\n",
              "      <td>89</td>\n",
              "      <td>0</td>\n",
              "      <td>1</td>\n",
              "      <td>0</td>\n",
              "      <td>0</td>\n",
              "      <td>0</td>\n",
              "      <td>0</td>\n",
              "      <td>0</td>\n",
              "      <td>0</td>\n",
              "      <td>0</td>\n",
              "      <td>0</td>\n",
              "      <td>0</td>\n",
              "      <td>0</td>\n",
              "      <td>0</td>\n",
              "    </tr>\n",
              "    <tr>\n",
              "      <th>100003</th>\n",
              "      <td>9.45</td>\n",
              "      <td>34.4596</td>\n",
              "      <td>-93.6743</td>\n",
              "      <td>33.887870</td>\n",
              "      <td>-93.040867</td>\n",
              "      <td>0</td>\n",
              "      <td>272</td>\n",
              "      <td>5</td>\n",
              "      <td>57</td>\n",
              "      <td>0</td>\n",
              "      <td>0</td>\n",
              "      <td>0</td>\n",
              "      <td>0</td>\n",
              "      <td>0</td>\n",
              "      <td>0</td>\n",
              "      <td>0</td>\n",
              "      <td>0</td>\n",
              "      <td>0</td>\n",
              "      <td>0</td>\n",
              "      <td>1</td>\n",
              "      <td>0</td>\n",
              "      <td>0</td>\n",
              "    </tr>\n",
              "    <tr>\n",
              "      <th>100004</th>\n",
              "      <td>1.72</td>\n",
              "      <td>41.6964</td>\n",
              "      <td>-96.9858</td>\n",
              "      <td>41.125792</td>\n",
              "      <td>-97.967163</td>\n",
              "      <td>0</td>\n",
              "      <td>195</td>\n",
              "      <td>8</td>\n",
              "      <td>95</td>\n",
              "      <td>0</td>\n",
              "      <td>0</td>\n",
              "      <td>0</td>\n",
              "      <td>0</td>\n",
              "      <td>0</td>\n",
              "      <td>0</td>\n",
              "      <td>0</td>\n",
              "      <td>0</td>\n",
              "      <td>1</td>\n",
              "      <td>0</td>\n",
              "      <td>0</td>\n",
              "      <td>0</td>\n",
              "      <td>0</td>\n",
              "    </tr>\n",
              "  </tbody>\n",
              "</table>\n",
              "</div>"
            ],
            "text/plain": [
              "          amt      lat     long  merch_lat  merch_long  is_fraud  cc_freq  \\\n",
              "100000   6.20  41.6964 -96.9858  42.416783  -96.439836         0      195   \n",
              "100001  19.37  42.6853 -73.8253  41.881164  -73.041856         0      128   \n",
              "100002  58.70  36.1183 -79.5685  35.374583  -79.337287         0      112   \n",
              "100003   9.45  34.4596 -93.6743  33.887870  -93.040867         0      272   \n",
              "100004   1.72  41.6964 -96.9858  41.125792  -97.967163         0      195   \n",
              "\n",
              "        hour_of_txn  age  category_food_dining  category_gas_transport  \\\n",
              "100000            1   95                     0                       0   \n",
              "100001           12   84                     0                       0   \n",
              "100002            3   89                     0                       1   \n",
              "100003            5   57                     0                       0   \n",
              "100004            8   95                     0                       0   \n",
              "\n",
              "        category_grocery_net  category_grocery_pos  category_health_fitness  \\\n",
              "100000                     0                     0                        0   \n",
              "100001                     0                     0                        0   \n",
              "100002                     0                     0                        0   \n",
              "100003                     0                     0                        0   \n",
              "100004                     0                     0                        0   \n",
              "\n",
              "        category_home  category_kids_pets  category_misc_net  \\\n",
              "100000              0                   0                  0   \n",
              "100001              0                   0                  0   \n",
              "100002              0                   0                  0   \n",
              "100003              0                   0                  0   \n",
              "100004              0                   0                  0   \n",
              "\n",
              "        category_misc_pos  category_personal_care  category_shopping_net  \\\n",
              "100000                  0                       0                      0   \n",
              "100001                  0                       1                      0   \n",
              "100002                  0                       0                      0   \n",
              "100003                  0                       0                      1   \n",
              "100004                  1                       0                      0   \n",
              "\n",
              "        category_shopping_pos  category_travel  \n",
              "100000                      1                0  \n",
              "100001                      0                0  \n",
              "100002                      0                0  \n",
              "100003                      0                0  \n",
              "100004                      0                0  "
            ]
          },
          "execution_count": 16,
          "metadata": {},
          "output_type": "execute_result"
        }
      ],
      "source": [
        "sample_test.head()"
      ]
    },
    {
      "cell_type": "code",
      "execution_count": null,
      "id": "5d7d7bb2",
      "metadata": {
        "id": "5d7d7bb2"
      },
      "outputs": [],
      "source": [
        "#store actual test result in target\n",
        "target = sample_test['is_fraud']\n",
        "\n",
        "#drop actual test result in target \n",
        "test = sample_test.drop('is_fraud', axis=1)"
      ]
    },
    {
      "cell_type": "code",
      "execution_count": null,
      "id": "edf8fff3",
      "metadata": {
        "id": "edf8fff3"
      },
      "outputs": [],
      "source": [
        "#separate the input from the output and store in variables\n",
        "input_data = sample_train.drop(['is_fraud'], axis =1)\n",
        "\n",
        "#separate the output from the input and store as y\n",
        "output_data = sample_train.is_fraud"
      ]
    },
    {
      "cell_type": "markdown",
      "id": "b5a3eea3",
      "metadata": {
        "id": "b5a3eea3"
      },
      "source": [
        "## Phase 3.1 - Machine Learning Algorithm (Random Forest)"
      ]
    },
    {
      "cell_type": "code",
      "execution_count": null,
      "id": "2f8725f5",
      "metadata": {
        "id": "2f8725f5"
      },
      "outputs": [],
      "source": [
        "#instantiate the model using Random Forest Classifier\n",
        "random_forest = RandomForestClassifier(random_state = 20)\n",
        "\n",
        "#machine is learning\n",
        "random_forest = random_forest.fit(input_data, output_data)\n",
        "\n",
        "#predict on test\n",
        "RF_prediction = random_forest.predict(test)"
      ]
    },
    {
      "cell_type": "code",
      "execution_count": null,
      "id": "aa122f16",
      "metadata": {
        "id": "aa122f16",
        "outputId": "18008faa-7868-46ed-e5a0-02f9bc4c712f"
      },
      "outputs": [
        {
          "data": {
            "text/html": [
              "<div>\n",
              "<style scoped>\n",
              "    .dataframe tbody tr th:only-of-type {\n",
              "        vertical-align: middle;\n",
              "    }\n",
              "\n",
              "    .dataframe tbody tr th {\n",
              "        vertical-align: top;\n",
              "    }\n",
              "\n",
              "    .dataframe thead th {\n",
              "        text-align: right;\n",
              "    }\n",
              "</style>\n",
              "<table border=\"1\" class=\"dataframe\">\n",
              "  <thead>\n",
              "    <tr style=\"text-align: right;\">\n",
              "      <th></th>\n",
              "      <th>Predicted Value</th>\n",
              "      <th>Actual Value</th>\n",
              "    </tr>\n",
              "  </thead>\n",
              "  <tbody>\n",
              "    <tr>\n",
              "      <th>100000</th>\n",
              "      <td>0</td>\n",
              "      <td>0</td>\n",
              "    </tr>\n",
              "    <tr>\n",
              "      <th>100001</th>\n",
              "      <td>0</td>\n",
              "      <td>0</td>\n",
              "    </tr>\n",
              "    <tr>\n",
              "      <th>100002</th>\n",
              "      <td>0</td>\n",
              "      <td>0</td>\n",
              "    </tr>\n",
              "    <tr>\n",
              "      <th>100003</th>\n",
              "      <td>0</td>\n",
              "      <td>0</td>\n",
              "    </tr>\n",
              "    <tr>\n",
              "      <th>100004</th>\n",
              "      <td>0</td>\n",
              "      <td>0</td>\n",
              "    </tr>\n",
              "    <tr>\n",
              "      <th>...</th>\n",
              "      <td>...</td>\n",
              "      <td>...</td>\n",
              "    </tr>\n",
              "    <tr>\n",
              "      <th>149995</th>\n",
              "      <td>0</td>\n",
              "      <td>0</td>\n",
              "    </tr>\n",
              "    <tr>\n",
              "      <th>149996</th>\n",
              "      <td>0</td>\n",
              "      <td>0</td>\n",
              "    </tr>\n",
              "    <tr>\n",
              "      <th>149997</th>\n",
              "      <td>0</td>\n",
              "      <td>0</td>\n",
              "    </tr>\n",
              "    <tr>\n",
              "      <th>149998</th>\n",
              "      <td>0</td>\n",
              "      <td>0</td>\n",
              "    </tr>\n",
              "    <tr>\n",
              "      <th>149999</th>\n",
              "      <td>0</td>\n",
              "      <td>0</td>\n",
              "    </tr>\n",
              "  </tbody>\n",
              "</table>\n",
              "<p>50000 rows × 2 columns</p>\n",
              "</div>"
            ],
            "text/plain": [
              "        Predicted Value  Actual Value\n",
              "100000                0             0\n",
              "100001                0             0\n",
              "100002                0             0\n",
              "100003                0             0\n",
              "100004                0             0\n",
              "...                 ...           ...\n",
              "149995                0             0\n",
              "149996                0             0\n",
              "149997                0             0\n",
              "149998                0             0\n",
              "149999                0             0\n",
              "\n",
              "[50000 rows x 2 columns]"
            ]
          },
          "execution_count": 20,
          "metadata": {},
          "output_type": "execute_result"
        }
      ],
      "source": [
        "#create a table for predicted value & actual value\n",
        "result = pd.DataFrame({'Predicted Value': RF_prediction, 'Actual Value': target})\n",
        "result"
      ]
    },
    {
      "cell_type": "code",
      "execution_count": null,
      "id": "7f20b914",
      "metadata": {
        "id": "7f20b914",
        "outputId": "2818de57-83b1-4624-f314-fb50af8d188f"
      },
      "outputs": [
        {
          "data": {
            "text/plain": [
              "0.99852"
            ]
          },
          "execution_count": 21,
          "metadata": {},
          "output_type": "execute_result"
        }
      ],
      "source": [
        "#Metrics 1 - Accuracy\n",
        "accuracy_score(target, RF_prediction)"
      ]
    },
    {
      "cell_type": "code",
      "execution_count": null,
      "id": "a03728da",
      "metadata": {
        "id": "a03728da",
        "outputId": "e9ae9345-0468-4306-8c51-4527de8745e2"
      },
      "outputs": [
        {
          "data": {
            "text/plain": [
              "array([[49803,     6],\n",
              "       [   68,   123]], dtype=int64)"
            ]
          },
          "execution_count": 22,
          "metadata": {},
          "output_type": "execute_result"
        }
      ],
      "source": [
        "confusion_matrix(result['Actual Value'], result['Predicted Value'])"
      ]
    },
    {
      "cell_type": "code",
      "execution_count": null,
      "id": "f6c6a9fb",
      "metadata": {
        "id": "f6c6a9fb",
        "outputId": "6ba75181-0a0a-459b-c79c-177476e33252"
      },
      "outputs": [
        {
          "data": {
            "text/plain": [
              "<sklearn.metrics._plot.confusion_matrix.ConfusionMatrixDisplay at 0x18e0920dd00>"
            ]
          },
          "execution_count": 23,
          "metadata": {},
          "output_type": "execute_result"
        },
        {
          "data": {
            "image/png": "[encoded data removed]",
            "text/plain": [
              "<Figure size 432x288 with 2 Axes>"
            ]
          },
          "metadata": {
            "needs_background": "light"
          },
          "output_type": "display_data"
        }
      ],
      "source": [
        "ConfusionMatrixDisplay.from_predictions( result['Actual Value'], result['Predicted Value'])"
      ]
    },
    {
      "cell_type": "markdown",
      "id": "0bb050d4",
      "metadata": {
        "id": "0bb050d4"
      },
      "source": [
        "The rows in the confusion matrix represents the Actual Labels \n",
        "The columns represents the predicted Labels\n",
        "\n",
        "NB: True means the model has accurately predicted the class and False means the model has made a mistake in predicting the class.\n",
        "\n",
        "\n",
        "# True Negative = 49803\n",
        "A model accurately predicts the Negative class, then it is True Negative.\n",
        "\n",
        "Here, the model predicted that 49803 transactions are Negative i.e. they are not-fraudulent and in reality these 49803 transactions are not-fraudulent. So,the prediction of Negative class is correct i.e. True Negative.\n",
        "\n",
        "\n",
        "## True positive = 123\n",
        "A model accurately predicts the Positive class, then it is True Positive.\n",
        "\n",
        "Here, the model predicted that 123 transactions are Positive i.e. they are Fraudulent and in reality these transactions are Fraudulent. So, the prediction of Positive class is correct i.e. True Positive.\n",
        "\n",
        "\n",
        "## False Negative = 68\n",
        "A model incorrectly predicts the negative class, then it is False Negative (FN).\n",
        "\n",
        "Here, The model predicted that 181 transactions are not-fraudulent i.e. they are not-fraudulent but in reality these transactions are Fraudulent. So, the prediction of the Negative class is incorrect i.e. False Negative.\n",
        "\n",
        "\n",
        "## False Positive = 6\n",
        "A model incorrectly predicts the positive class, then It is False Positive (FP).\n",
        "\n",
        "Here,the model predicted that 6 transactions are positive i.e. They are Fraudulent But in reality these transactions are not-fraudulent. So,the prediction of the positive class is incorrect i.e. False Positive."
      ]
    },
    {
      "cell_type": "markdown",
      "id": "3ab63694",
      "metadata": {
        "id": "3ab63694"
      },
      "source": [
        "## Phase 3.2 - Machine Learning Algorithm (Naives Bayes)"
      ]
    },
    {
      "cell_type": "code",
      "execution_count": null,
      "id": "df8822a4",
      "metadata": {
        "id": "df8822a4"
      },
      "outputs": [],
      "source": [
        "# Create a Naive Bayes classifier\n",
        "Naive_Bayes = GaussianNB()\n",
        "\n",
        "# Train the classifier\n",
        "Naive_Bayes.fit(input_data, output_data)\n",
        "\n",
        "# Make predictions\n",
        "NB_prediction = Naive_Bayes.predict(test)"
      ]
    },
    {
      "cell_type": "code",
      "execution_count": null,
      "id": "df3cac08",
      "metadata": {
        "id": "df3cac08",
        "outputId": "f26e1a71-a929-40c4-9ec2-9e2fb03f725e"
      },
      "outputs": [
        {
          "data": {
            "text/html": [
              "<div>\n",
              "<style scoped>\n",
              "    .dataframe tbody tr th:only-of-type {\n",
              "        vertical-align: middle;\n",
              "    }\n",
              "\n",
              "    .dataframe tbody tr th {\n",
              "        vertical-align: top;\n",
              "    }\n",
              "\n",
              "    .dataframe thead th {\n",
              "        text-align: right;\n",
              "    }\n",
              "</style>\n",
              "<table border=\"1\" class=\"dataframe\">\n",
              "  <thead>\n",
              "    <tr style=\"text-align: right;\">\n",
              "      <th></th>\n",
              "      <th>Predicted Value</th>\n",
              "      <th>Actual Value</th>\n",
              "    </tr>\n",
              "  </thead>\n",
              "  <tbody>\n",
              "    <tr>\n",
              "      <th>100000</th>\n",
              "      <td>0</td>\n",
              "      <td>0</td>\n",
              "    </tr>\n",
              "    <tr>\n",
              "      <th>100001</th>\n",
              "      <td>0</td>\n",
              "      <td>0</td>\n",
              "    </tr>\n",
              "    <tr>\n",
              "      <th>100002</th>\n",
              "      <td>0</td>\n",
              "      <td>0</td>\n",
              "    </tr>\n",
              "    <tr>\n",
              "      <th>100003</th>\n",
              "      <td>0</td>\n",
              "      <td>0</td>\n",
              "    </tr>\n",
              "    <tr>\n",
              "      <th>100004</th>\n",
              "      <td>0</td>\n",
              "      <td>0</td>\n",
              "    </tr>\n",
              "    <tr>\n",
              "      <th>...</th>\n",
              "      <td>...</td>\n",
              "      <td>...</td>\n",
              "    </tr>\n",
              "    <tr>\n",
              "      <th>149995</th>\n",
              "      <td>0</td>\n",
              "      <td>0</td>\n",
              "    </tr>\n",
              "    <tr>\n",
              "      <th>149996</th>\n",
              "      <td>0</td>\n",
              "      <td>0</td>\n",
              "    </tr>\n",
              "    <tr>\n",
              "      <th>149997</th>\n",
              "      <td>0</td>\n",
              "      <td>0</td>\n",
              "    </tr>\n",
              "    <tr>\n",
              "      <th>149998</th>\n",
              "      <td>1</td>\n",
              "      <td>0</td>\n",
              "    </tr>\n",
              "    <tr>\n",
              "      <th>149999</th>\n",
              "      <td>1</td>\n",
              "      <td>0</td>\n",
              "    </tr>\n",
              "  </tbody>\n",
              "</table>\n",
              "<p>50000 rows × 2 columns</p>\n",
              "</div>"
            ],
            "text/plain": [
              "        Predicted Value  Actual Value\n",
              "100000                0             0\n",
              "100001                0             0\n",
              "100002                0             0\n",
              "100003                0             0\n",
              "100004                0             0\n",
              "...                 ...           ...\n",
              "149995                0             0\n",
              "149996                0             0\n",
              "149997                0             0\n",
              "149998                1             0\n",
              "149999                1             0\n",
              "\n",
              "[50000 rows x 2 columns]"
            ]
          },
          "execution_count": 25,
          "metadata": {},
          "output_type": "execute_result"
        }
      ],
      "source": [
        "#create a table for predicted value & actual value\n",
        "result = pd.DataFrame({'Predicted Value': NB_prediction, 'Actual Value': target})\n",
        "result"
      ]
    },
    {
      "cell_type": "code",
      "execution_count": null,
      "id": "47f8ed86",
      "metadata": {
        "id": "47f8ed86",
        "outputId": "2cba2a92-952e-444f-af8a-958c9ca4dea1"
      },
      "outputs": [
        {
          "name": "stdout",
          "output_type": "stream",
          "text": [
            "Accuracy: 0.919\n"
          ]
        }
      ],
      "source": [
        "# Calculate accuracy\n",
        "accuracy = accuracy_score(target, NB_prediction)\n",
        "print(\"Accuracy: {:.3f}\".format(accuracy))"
      ]
    },
    {
      "cell_type": "code",
      "execution_count": null,
      "id": "9992ba9e",
      "metadata": {
        "id": "9992ba9e",
        "outputId": "a2a633d5-788d-4bd4-e95c-435f518f14cc"
      },
      "outputs": [
        {
          "data": {
            "text/plain": [
              "array([[45794,  4015],\n",
              "       [   54,   137]], dtype=int64)"
            ]
          },
          "execution_count": 27,
          "metadata": {},
          "output_type": "execute_result"
        }
      ],
      "source": [
        "confusion_matrix(result['Actual Value'], result['Predicted Value'])"
      ]
    },
    {
      "cell_type": "code",
      "execution_count": null,
      "id": "714538d5",
      "metadata": {
        "id": "714538d5",
        "outputId": "4f099fbb-84ec-4700-e0f6-fb435ca256d3"
      },
      "outputs": [
        {
          "data": {
            "text/plain": [
              "<sklearn.metrics._plot.confusion_matrix.ConfusionMatrixDisplay at 0x18e510894c0>"
            ]
          },
          "execution_count": 28,
          "metadata": {},
          "output_type": "execute_result"
        },
        {
          "data": {
            "image/png": "[encoded data removed]",
            "text/plain": [
              "<Figure size 432x288 with 2 Axes>"
            ]
          },
          "metadata": {
            "needs_background": "light"
          },
          "output_type": "display_data"
        }
      ],
      "source": [
        "ConfusionMatrixDisplay.from_predictions( result['Actual Value'], result['Predicted Value'])"
      ]
    },
    {
      "cell_type": "markdown",
      "id": "b1e0e447",
      "metadata": {
        "id": "b1e0e447"
      },
      "source": [
        "The rows in the confusion matrix represents the Actual Labels The columns represents the predicted Labels\n",
        "\n",
        "NB: True means the model has accurately predicted the class and False means the model has made a mistake in predicting the class.\n",
        "\n",
        "## True Negative = 45794\n",
        "A model accurately predicts the Negative class, then it is True Negative.\n",
        "\n",
        "Here, the model predicted that 49803 transactions are Negative i.e. they are not-fraudulent and in reality these 49803 transactions are not-fraudulent. So,the prediction of Negative class is correct i.e. True Negative.\n",
        "\n",
        "## True positive = 137\n",
        "A model accurately predicts the Positive class, then it is True Positive.\n",
        "\n",
        "Here, the model predicted that 123 transactions are Positive i.e. they are Fraudulent and in reality these transactions are Fraudulent. So, the prediction of Positive class is correct i.e. True Positive.\n",
        "\n",
        "## False Negative = 54\n",
        "A model incorrectly predicts the negative class, then it is False Negative (FN).\n",
        "\n",
        "Here, The model predicted that 181 transactions are not-fraudulent i.e. they are not-fraudulent but in reality these transactions are Fraudulent. So, the prediction of the Negative class is incorrect i.e. False Negative.\n",
        "\n",
        "## False Positive = 4015\n",
        "A model incorrectly predicts the positive class, then It is False Positive (FP).\n",
        "\n",
        "Here,the model predicted that 6 transactions are positive i.e. They are Fraudulent But in reality these transactions are not-fraudulent. So,the prediction of the positive class is incorrect i.e. False Positive."
      ]
    },
    {
      "cell_type": "markdown",
      "id": "a5fe2032",
      "metadata": {
        "id": "a5fe2032"
      },
      "source": [
        "## Phase 3.3 - Machine Learning Algorithm (Decision Tree)"
      ]
    },
    {
      "cell_type": "code",
      "execution_count": null,
      "id": "49eca03f",
      "metadata": {
        "id": "49eca03f"
      },
      "outputs": [],
      "source": [
        "# Instantiate a DecisionTreeClassifier object\n",
        "decision_tree = DecisionTreeClassifier()\n",
        "\n",
        "# Fit the decision tree model to the training data\n",
        "decision_tree.fit(input_data, output_data)\n",
        "\n",
        "# Predict the labels for the test data\n",
        "DT_prediction = decision_tree.predict(test)"
      ]
    },
    {
      "cell_type": "code",
      "execution_count": null,
      "id": "3ba8fd4b",
      "metadata": {
        "id": "3ba8fd4b",
        "outputId": "f22c147d-19ea-4108-8ca4-8f6eb9f19798"
      },
      "outputs": [
        {
          "data": {
            "text/html": [
              "<div>\n",
              "<style scoped>\n",
              "    .dataframe tbody tr th:only-of-type {\n",
              "        vertical-align: middle;\n",
              "    }\n",
              "\n",
              "    .dataframe tbody tr th {\n",
              "        vertical-align: top;\n",
              "    }\n",
              "\n",
              "    .dataframe thead th {\n",
              "        text-align: right;\n",
              "    }\n",
              "</style>\n",
              "<table border=\"1\" class=\"dataframe\">\n",
              "  <thead>\n",
              "    <tr style=\"text-align: right;\">\n",
              "      <th></th>\n",
              "      <th>Predicted Value</th>\n",
              "      <th>Actual Value</th>\n",
              "    </tr>\n",
              "  </thead>\n",
              "  <tbody>\n",
              "    <tr>\n",
              "      <th>100000</th>\n",
              "      <td>0</td>\n",
              "      <td>0</td>\n",
              "    </tr>\n",
              "    <tr>\n",
              "      <th>100001</th>\n",
              "      <td>0</td>\n",
              "      <td>0</td>\n",
              "    </tr>\n",
              "    <tr>\n",
              "      <th>100002</th>\n",
              "      <td>0</td>\n",
              "      <td>0</td>\n",
              "    </tr>\n",
              "    <tr>\n",
              "      <th>100003</th>\n",
              "      <td>0</td>\n",
              "      <td>0</td>\n",
              "    </tr>\n",
              "    <tr>\n",
              "      <th>100004</th>\n",
              "      <td>0</td>\n",
              "      <td>0</td>\n",
              "    </tr>\n",
              "    <tr>\n",
              "      <th>...</th>\n",
              "      <td>...</td>\n",
              "      <td>...</td>\n",
              "    </tr>\n",
              "    <tr>\n",
              "      <th>149995</th>\n",
              "      <td>0</td>\n",
              "      <td>0</td>\n",
              "    </tr>\n",
              "    <tr>\n",
              "      <th>149996</th>\n",
              "      <td>0</td>\n",
              "      <td>0</td>\n",
              "    </tr>\n",
              "    <tr>\n",
              "      <th>149997</th>\n",
              "      <td>0</td>\n",
              "      <td>0</td>\n",
              "    </tr>\n",
              "    <tr>\n",
              "      <th>149998</th>\n",
              "      <td>0</td>\n",
              "      <td>0</td>\n",
              "    </tr>\n",
              "    <tr>\n",
              "      <th>149999</th>\n",
              "      <td>0</td>\n",
              "      <td>0</td>\n",
              "    </tr>\n",
              "  </tbody>\n",
              "</table>\n",
              "<p>50000 rows × 2 columns</p>\n",
              "</div>"
            ],
            "text/plain": [
              "        Predicted Value  Actual Value\n",
              "100000                0             0\n",
              "100001                0             0\n",
              "100002                0             0\n",
              "100003                0             0\n",
              "100004                0             0\n",
              "...                 ...           ...\n",
              "149995                0             0\n",
              "149996                0             0\n",
              "149997                0             0\n",
              "149998                0             0\n",
              "149999                0             0\n",
              "\n",
              "[50000 rows x 2 columns]"
            ]
          },
          "execution_count": 30,
          "metadata": {},
          "output_type": "execute_result"
        }
      ],
      "source": [
        "#create a table for predicted value & actual value\n",
        "result = pd.DataFrame({'Predicted Value': DT_prediction, 'Actual Value': target})\n",
        "result"
      ]
    },
    {
      "cell_type": "code",
      "execution_count": null,
      "id": "22e689f2",
      "metadata": {
        "id": "22e689f2",
        "outputId": "2c674214-69ab-456e-8981-e2d8c11cf971"
      },
      "outputs": [
        {
          "name": "stdout",
          "output_type": "stream",
          "text": [
            "Accuracy: 0.997\n"
          ]
        }
      ],
      "source": [
        "# Evaluate the model\n",
        "accuracy = accuracy_score(target, DT_prediction)\n",
        "print(\"Accuracy: {:.3f}\".format(accuracy))"
      ]
    },
    {
      "cell_type": "code",
      "execution_count": null,
      "id": "bb5f69e1",
      "metadata": {
        "id": "bb5f69e1",
        "outputId": "4e8de67f-86eb-4b4e-9dd0-7b854df212d9"
      },
      "outputs": [
        {
          "data": {
            "text/plain": [
              "array([[49727,    82],\n",
              "       [   57,   134]], dtype=int64)"
            ]
          },
          "execution_count": 32,
          "metadata": {},
          "output_type": "execute_result"
        }
      ],
      "source": [
        "confusion_matrix(result['Actual Value'], result['Predicted Value'])"
      ]
    },
    {
      "cell_type": "code",
      "execution_count": null,
      "id": "e2515e5e",
      "metadata": {
        "id": "e2515e5e",
        "outputId": "e6003762-52af-4a6e-8d92-4f084717693b"
      },
      "outputs": [
        {
          "data": {
            "text/plain": [
              "<sklearn.metrics._plot.confusion_matrix.ConfusionMatrixDisplay at 0x18e00ec5fa0>"
            ]
          },
          "execution_count": 33,
          "metadata": {},
          "output_type": "execute_result"
        },
        {
          "data": {
            "image/png": "[encoded data removed]",
            "text/plain": [
              "<Figure size 432x288 with 2 Axes>"
            ]
          },
          "metadata": {
            "needs_background": "light"
          },
          "output_type": "display_data"
        }
      ],
      "source": [
        "ConfusionMatrixDisplay.from_predictions( result['Actual Value'], result['Predicted Value'])"
      ]
    },
    {
      "cell_type": "markdown",
      "id": "222ffc8e",
      "metadata": {
        "id": "222ffc8e"
      },
      "source": [
        "## Phase 3.4 - Machine Learning Algorithm (Logistic Regression)"
      ]
    },
    {
      "cell_type": "code",
      "execution_count": null,
      "id": "12849c9d",
      "metadata": {
        "id": "12849c9d",
        "outputId": "4f32628a-4582-443e-b1d3-84f011a5185f"
      },
      "outputs": [
        {
          "name": "stderr",
          "output_type": "stream",
          "text": [
            "C:\\Users\\Max\\anaconda3\\lib\\site-packages\\sklearn\\linear_model\\_logistic.py:814: ConvergenceWarning: lbfgs failed to converge (status=1):\n",
            "STOP: TOTAL NO. of ITERATIONS REACHED LIMIT.\n",
            "\n",
            "Increase the number of iterations (max_iter) or scale the data as shown in:\n",
            "    https://scikit-learn.org/stable/modules/preprocessing.html\n",
            "Please also refer to the documentation for alternative solver options:\n",
            "    https://scikit-learn.org/stable/modules/linear_model.html#logistic-regression\n",
            "  n_iter_i = _check_optimize_result(\n"
          ]
        },
        {
          "data": {
            "text/html": [
              "<div>\n",
              "<style scoped>\n",
              "    .dataframe tbody tr th:only-of-type {\n",
              "        vertical-align: middle;\n",
              "    }\n",
              "\n",
              "    .dataframe tbody tr th {\n",
              "        vertical-align: top;\n",
              "    }\n",
              "\n",
              "    .dataframe thead th {\n",
              "        text-align: right;\n",
              "    }\n",
              "</style>\n",
              "<table border=\"1\" class=\"dataframe\">\n",
              "  <thead>\n",
              "    <tr style=\"text-align: right;\">\n",
              "      <th></th>\n",
              "      <th>Predicted Value</th>\n",
              "      <th>Actual Value</th>\n",
              "    </tr>\n",
              "  </thead>\n",
              "  <tbody>\n",
              "    <tr>\n",
              "      <th>100000</th>\n",
              "      <td>0</td>\n",
              "      <td>0</td>\n",
              "    </tr>\n",
              "    <tr>\n",
              "      <th>100001</th>\n",
              "      <td>0</td>\n",
              "      <td>0</td>\n",
              "    </tr>\n",
              "    <tr>\n",
              "      <th>100002</th>\n",
              "      <td>0</td>\n",
              "      <td>0</td>\n",
              "    </tr>\n",
              "    <tr>\n",
              "      <th>100003</th>\n",
              "      <td>0</td>\n",
              "      <td>0</td>\n",
              "    </tr>\n",
              "    <tr>\n",
              "      <th>100004</th>\n",
              "      <td>0</td>\n",
              "      <td>0</td>\n",
              "    </tr>\n",
              "    <tr>\n",
              "      <th>...</th>\n",
              "      <td>...</td>\n",
              "      <td>...</td>\n",
              "    </tr>\n",
              "    <tr>\n",
              "      <th>149995</th>\n",
              "      <td>0</td>\n",
              "      <td>0</td>\n",
              "    </tr>\n",
              "    <tr>\n",
              "      <th>149996</th>\n",
              "      <td>0</td>\n",
              "      <td>0</td>\n",
              "    </tr>\n",
              "    <tr>\n",
              "      <th>149997</th>\n",
              "      <td>0</td>\n",
              "      <td>0</td>\n",
              "    </tr>\n",
              "    <tr>\n",
              "      <th>149998</th>\n",
              "      <td>0</td>\n",
              "      <td>0</td>\n",
              "    </tr>\n",
              "    <tr>\n",
              "      <th>149999</th>\n",
              "      <td>0</td>\n",
              "      <td>0</td>\n",
              "    </tr>\n",
              "  </tbody>\n",
              "</table>\n",
              "<p>50000 rows × 2 columns</p>\n",
              "</div>"
            ],
            "text/plain": [
              "        Predicted Value  Actual Value\n",
              "100000                0             0\n",
              "100001                0             0\n",
              "100002                0             0\n",
              "100003                0             0\n",
              "100004                0             0\n",
              "...                 ...           ...\n",
              "149995                0             0\n",
              "149996                0             0\n",
              "149997                0             0\n",
              "149998                0             0\n",
              "149999                0             0\n",
              "\n",
              "[50000 rows x 2 columns]"
            ]
          },
          "execution_count": 34,
          "metadata": {},
          "output_type": "execute_result"
        }
      ],
      "source": [
        "Logistic_Regression = LogisticRegression()\n",
        "\n",
        "# model = LogisticRegression(random_state=0)\n",
        "Logistic_Regression.fit(input_data, output_data)\n",
        "\n",
        "LR_prediction = Logistic_Regression.predict(test)\n",
        "\n",
        "#create a table for predicted value & actual value\n",
        "result = pd.DataFrame({'Predicted Value': LR_prediction, 'Actual Value': target})\n",
        "result"
      ]
    },
    {
      "cell_type": "code",
      "execution_count": null,
      "id": "8dc6cacb",
      "metadata": {
        "id": "8dc6cacb",
        "outputId": "a2e08dfe-14c1-4b43-e27a-73e5d2471c09"
      },
      "outputs": [
        {
          "name": "stdout",
          "output_type": "stream",
          "text": [
            "Accuracy: 0.996\n"
          ]
        }
      ],
      "source": [
        "# Evaluate the model\n",
        "accuracy = accuracy_score(target, LR_prediction)\n",
        "print(\"Accuracy: {:.3f}\".format(accuracy))"
      ]
    },
    {
      "cell_type": "code",
      "execution_count": null,
      "id": "9bc8385f",
      "metadata": {
        "id": "9bc8385f",
        "outputId": "0a7dbe29-b23f-4c2c-9f45-27af546aacd4"
      },
      "outputs": [
        {
          "data": {
            "text/plain": [
              "array([[49790,    19],\n",
              "       [  189,     2]], dtype=int64)"
            ]
          },
          "execution_count": 36,
          "metadata": {},
          "output_type": "execute_result"
        }
      ],
      "source": [
        "confusion_matrix(result['Actual Value'], result['Predicted Value'])"
      ]
    },
    {
      "cell_type": "code",
      "execution_count": null,
      "id": "fd32f2b8",
      "metadata": {
        "id": "fd32f2b8",
        "outputId": "794cdb48-6a45-4ed1-ee34-1b166d94a5d0"
      },
      "outputs": [
        {
          "data": {
            "text/plain": [
              "<sklearn.metrics._plot.confusion_matrix.ConfusionMatrixDisplay at 0x18e04b88b50>"
            ]
          },
          "execution_count": 37,
          "metadata": {},
          "output_type": "execute_result"
        },
        {
          "data": {
            "image/png": "[encoded data removed]",
            "text/plain": [
              "<Figure size 432x288 with 2 Axes>"
            ]
          },
          "metadata": {
            "needs_background": "light"
          },
          "output_type": "display_data"
        }
      ],
      "source": [
        "ConfusionMatrixDisplay.from_predictions( result['Actual Value'], result['Predicted Value'])"
      ]
    },
    {
      "cell_type": "markdown",
      "id": "93571e67",
      "metadata": {
        "id": "93571e67"
      },
      "source": [
        "## Phase 4 - Interactive Dashboard"
      ]
    },
    {
      "cell_type": "code",
      "execution_count": null,
      "id": "29f0f775",
      "metadata": {
        "id": "29f0f775",
        "outputId": "027a2913-811b-4428-9429-b87161b8423f",
        "colab": {
          "referenced_widgets": [
            "e4cb8f0f82e34a7ca2a78c3af04f51b3"
          ]
        }
      },
      "outputs": [
        {
          "data": {
            "application/vnd.jupyter.widget-view+json": {
              "model_id": "e4cb8f0f82e34a7ca2a78c3af04f51b3",
              "version_major": 2,
              "version_minor": 0
            },
            "text/plain": [
              "interactive(children=(FloatText(value=100.0, description='Txn Amt:'), FloatText(value=40.73061, description='L…"
            ]
          },
          "metadata": {},
          "output_type": "display_data"
        }
      ],
      "source": [
        "# Define the input widgets as dialog boxes\n",
        "amt_widget = widgets.FloatText(value=100, description=\"Txn Amt:\")\n",
        "lat_widget = widgets.FloatText(value=40.730610, description=\"Lat:\")\n",
        "long_widget = widgets.FloatText(value=-73.935242, description=\"Long:\")\n",
        "merch_lat_widget = widgets.FloatText(value=40.730610, description=\"Merch Lat:\")\n",
        "merch_long_widget = widgets.FloatText(value=-73.935242, description=\"Merch Long:\")\n",
        "cc_freq_widget = widgets.IntText(value=5, description=\"Card Freq:\")\n",
        "hour_of_txn_widget = widgets.IntText(value=12, description=\"Hr of Txn:\")\n",
        "age_widget = widgets.IntText(value=30, description=\"Age:\")\n",
        "category_food_dining_widget = widgets.FloatText(value=0, description=\"Food/Dining:\")\n",
        "category_gas_transport_widget = widgets.FloatText(value=0, description=\"Gas/Transport:\")\n",
        "category_grocery_net_widget = widgets.FloatText(value=0, description=\"Grocery Net:\")\n",
        "category_grocery_pos_widget = widgets.FloatText(value=0, description=\"Grocery Pos:\")\n",
        "category_health_fitness_widget = widgets.FloatText(value=0, description=\"Health/Fitness:\")\n",
        "category_home_widget = widgets.FloatText(value=0, description=\"Home:\")\n",
        "category_kids_pets_widget = widgets.FloatText(value=0, description=\"Kids/Pets:\")\n",
        "category_misc_net_widget = widgets.FloatText(value=0, description=\"Misc Net:\")\n",
        "category_misc_pos_widget = widgets.FloatText(value=0, description=\"Misc Pos:\")\n",
        "category_personal_care_widget = widgets.FloatText(value=0, description=\"Personal Care:\")\n",
        "category_shopping_net_widget = widgets.FloatText(value=0, description=\"Shopping Net:\")\n",
        "category_shopping_pos_widget = widgets.FloatText(value=0, description=\"Shopping Pos:\")\n",
        "category_travel_widget = widgets.FloatText(value=0, description=\"Travel:\")\n",
        "\n",
        "# Define the prediction function\n",
        "@interact_manual\n",
        "def predict_fraud(amt=amt_widget, lat=lat_widget, long=long_widget, merch_lat=merch_lat_widget, merch_long=merch_long_widget,\n",
        "                  cc_freq=cc_freq_widget, hour_of_txn=hour_of_txn_widget, age=age_widget,\n",
        "                  category_food_dining=category_food_dining_widget, category_gas_transport=category_gas_transport_widget,\n",
        "                  category_grocery_net=category_grocery_net_widget, category_grocery_pos=category_grocery_pos_widget,\n",
        "                  category_health_fitness=category_health_fitness_widget, category_home=category_home_widget,\n",
        "                  category_kids_pets=category_kids_pets_widget, category_misc_net=category_misc_net_widget,\n",
        "                  category_misc_pos=category_misc_pos_widget, category_personal_care=category_personal_care_widget,\n",
        "                  category_shopping_net=category_shopping_net_widget, category_shopping_pos=category_shopping_pos_widget,\n",
        "                  category_travel=category_travel_widget):\n",
        "    input_data = [amt, lat, long, merch_lat, merch_long, cc_freq, hour_of_txn, age, category_food_dining, category_gas_transport,\n",
        "                  category_grocery_net, category_grocery_pos, category_health_fitness, category_home, category_kids_pets, category_misc_net, category_misc_pos, category_personal_care, category_shopping_net, category_shopping_pos, category_travel]\n",
        "    input_data = np.array(input_data).reshape(1, -1)\n",
        "    prediction = random_forest.predict(input_data)[0]  \n",
        "    if prediction == 1:\n",
        "        result = \"Fraudulent\"\n",
        "    else:\n",
        "        result = \"Not Fraudulent\"\n",
        "    print(\"Prediction: \", result)\n",
        "    \n",
        "    \n",
        "    \n",
        "amt_widget = widgets.FloatText(value=100, description=\"Transaction Amount:\")\n",
        "\n",
        "# Set the width of the text label using HTML formatting\n",
        "description_html = f'<div style=\"width: 150px\">{amt_widget.description}</div>'\n",
        "amt_widget.description = description_html"
      ]
    },
    {
      "cell_type": "code",
      "execution_count": null,
      "id": "4d2e26e1",
      "metadata": {
        "id": "4d2e26e1",
        "outputId": "a36da538-057c-49c0-df27-80842f0f66f5"
      },
      "outputs": [
        {
          "name": "stdout",
          "output_type": "stream",
          "text": [
            "Dash is running on http://127.0.0.1:8050/\n",
            "\n",
            " * Serving Flask app \"__main__\" (lazy loading)\n",
            " * Environment: production\n",
            "\u001b[31m   WARNING: This is a development server. Do not use it in a production deployment.\u001b[0m\n",
            "\u001b[2m   Use a production WSGI server instead.\u001b[0m\n",
            " * Debug mode: off\n"
          ]
        },
        {
          "name": "stderr",
          "output_type": "stream",
          "text": [
            " * Running on http://127.0.0.1:8050/ (Press CTRL+C to quit)\n"
          ]
        }
      ],
      "source": [
        "# Load the dataset\n",
        "# df = pd.read_csv(\"sample_train.csv\")\n",
        "\n",
        "df = pd.read_csv(\"sample_train.csv\")\n",
        "\n",
        "# Convert date_time column to datetime\n",
        "df['trans_date_trans_time'] = pd.to_datetime(df['trans_date_trans_time'])\n",
        "\n",
        "# Extract year information from the date-time column\n",
        "df['year'] = df['trans_date_trans_time'].dt.year\n",
        "\n",
        "# Create Dash app\n",
        "app = dash.Dash(__name__)\n",
        "\n",
        "# Define the layout with a menu and date pickers\n",
        "app.layout = html.Div([\n",
        "    html.H1(\"Interactive Dashboard\"),\n",
        "\n",
        "    # Menu\n",
        "    html.Div([\n",
        "        html.Label(\"Select Chart Type:\"),\n",
        "        dcc.Dropdown(\n",
        "            id=\"chart-type\",\n",
        "            options=[\n",
        "                {\"label\": \"Pie-chart 1\", \"value\": \"pie-chart 1\"},\n",
        "                {\"label\": \"Bar Chart\", \"value\": \"bar-chart\"},\n",
        "                {\"label\": \"Pie Chart 2\", \"value\": \"pie-chart 2\"},\n",
        "                {\"label\": \"Scatter Plot\", \"value\": \"scatter-plot\"}\n",
        "            ],\n",
        "            value=\"histogram\"\n",
        "        ),\n",
        "    ], style={\"width\": \"250px\", \"margin-bottom\": \"20px\"}),\n",
        "\n",
        "    # Date pickers\n",
        "    html.Div([\n",
        "        html.Label(\"Select Date Range:\"),\n",
        "        dcc.DatePickerRange(\n",
        "            id=\"date-range\",\n",
        "            start_date=df['trans_date_trans_time'].min(),\n",
        "            end_date=df['trans_date_trans_time'].max(),\n",
        "            display_format='YYYY-MM-DD'\n",
        "        ),\n",
        "    ], style={\"width\": \"500px\", \"margin-bottom\": \"20px\"}),\n",
        "\n",
        "    # Placeholder for chart\n",
        "    html.Div(id=\"chart-output\"),\n",
        "])\n",
        "\n",
        "# Callback for updating the chart based on selected chart type and date range\n",
        "@app.callback(Output(\"chart-output\", \"children\"),\n",
        "              Input(\"chart-type\", \"value\"),\n",
        "              Input(\"date-range\", \"start_date\"),\n",
        "              Input(\"date-range\", \"end_date\"))\n",
        "def update_chart(chart_type, start_date, end_date):\n",
        "    filtered_df = df[(df[\"trans_date_trans_time\"] >= start_date) & (df[\"trans_date_trans_time\"] <= end_date)]\n",
        "    if chart_type == \"pie-chart 1\":\n",
        "        pie_chart_data = filtered_df[\"category\"].value_counts().reset_index()\n",
        "        fig = px.pie(pie_chart_data, values=\"category\", names=\"index\", title=\"Category Distribution\")\n",
        "    elif chart_type == \"bar-chart\":\n",
        "        bar_chart_data = filtered_df.groupby(\"category\").mean().reset_index()\n",
        "        fig = px.bar(bar_chart_data, x=\"category\", y=\"amt\", color=\"category\")\n",
        "    elif chart_type == \"pie-chart 2\":\n",
        "        pie_chart_data = filtered_df[\"gender\"].value_counts().reset_index()\n",
        "        fig = px.pie(pie_chart_data, values=\"gender\", names=\"index\", title=\"Gender Distribution\")\n",
        "    elif chart_type == \"scatter-plot\":\n",
        "        fig = px.scatter(filtered_df, x=\"lat\", y=\"long\", color=\"is_fraud\", title=\"Scatter Plot\")\n",
        "    return dcc.Graph(figure=fig)\n",
        "\n",
        "if __name__ == \"__main__\":\n",
        "    app.run_server(debug=False)\n",
        "\n",
        "\n",
        "# if __name__ == \"__main__\":\n",
        "#     app.run_server(mode='inline', debug=False)\n"
      ]
    },
    {
      "cell_type": "code",
      "execution_count": null,
      "id": "2ce6f677",
      "metadata": {
        "id": "2ce6f677"
      },
      "outputs": [],
      "source": []
    }
  ],
  "metadata": {
    "kernelspec": {
      "display_name": "Python 3 (ipykernel)",
      "language": "python",
      "name": "python3"
    },
    "language_info": {
      "codemirror_mode": {
        "name": "ipython",
        "version": 3
      },
      "file_extension": ".py",
      "mimetype": "text/x-python",
      "name": "python",
      "nbconvert_exporter": "python",
      "pygments_lexer": "ipython3",
      "version": "3.9.12"
    },
    "colab": {
      "provenance": []
    }
  },
  "nbformat": 4,
  "nbformat_minor": 5
}